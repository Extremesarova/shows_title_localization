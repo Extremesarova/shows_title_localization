{
 "cells": [
  {
   "cell_type": "markdown",
   "id": "4626bb45-203e-4e82-9884-a5092c6befae",
   "metadata": {},
   "source": [
    "# Research on the quality of localization of movie titles"
   ]
  },
  {
   "cell_type": "markdown",
   "id": "4b36f91d-bfa0-4e28-a8ff-77453ad9f3d0",
   "metadata": {},
   "source": [
    "The goal of this research is to find out:\n",
    "* How similar Russian titles and original titles are in general?\n",
    "* Can we split dissimilar pairs (Russian title::original title) into groups by root cause?"
   ]
  },
  {
   "cell_type": "markdown",
   "id": "c57f7095-1394-4b84-9c55-a302c6cb2127",
   "metadata": {},
   "source": [
    "## Importing needed packages"
   ]
  },
  {
   "cell_type": "code",
   "execution_count": 1,
   "id": "6ac7407d-926d-4888-b92a-9108f8c07cd9",
   "metadata": {},
   "outputs": [],
   "source": [
    "# !pip install sentence-transformers"
   ]
  },
  {
   "cell_type": "code",
   "execution_count": 2,
   "id": "5199ba5e-82e3-4cfc-9d0b-b3f11e1d67a6",
   "metadata": {},
   "outputs": [],
   "source": [
    "import os\n",
    "import re\n",
    "\n",
    "import matplotlib.pyplot as plt\n",
    "import numpy as np\n",
    "import pandas as pd\n",
    "import seaborn as sns\n",
    "import torch\n",
    "from sentence_transformers import SentenceTransformer"
   ]
  },
  {
   "cell_type": "code",
   "execution_count": 3,
   "id": "f42ca1bf",
   "metadata": {},
   "outputs": [],
   "source": [
    "from src.title_localization_utils import (\n",
    "    check_countries,\n",
    "    get_similarity_dataframe,\n",
    "    has_numbers_in_square_brackets,\n",
    ")"
   ]
  },
  {
   "cell_type": "code",
   "execution_count": 4,
   "id": "4f7a1b2c-4ac5-411a-b7c6-f4cb1e8b451e",
   "metadata": {},
   "outputs": [],
   "source": [
    "%matplotlib inline\n",
    "%config InlineBackend.figure_format='retina'\n",
    "sns.set(style=\"ticks\")"
   ]
  },
  {
   "cell_type": "code",
   "execution_count": 5,
   "id": "cd99c5cd-9145-4238-928c-4a5772d128d5",
   "metadata": {},
   "outputs": [],
   "source": [
    "SEED = 42"
   ]
  },
  {
   "cell_type": "markdown",
   "id": "4db1ae62-a4d6-4d88-9bb4-419119ff40f7",
   "metadata": {},
   "source": [
    "## Paths"
   ]
  },
  {
   "cell_type": "code",
   "execution_count": 6,
   "id": "c266817e-0df5-481a-a9d1-b07ebb2095f7",
   "metadata": {},
   "outputs": [],
   "source": [
    "relative_path = os.path.join(\"../\", \"data\", \"0_raw_parsed_data\")"
   ]
  },
  {
   "cell_type": "markdown",
   "id": "dbe689d5-2d67-4017-a7e7-28e10a1ea7c0",
   "metadata": {},
   "source": [
    "## Reading data"
   ]
  },
  {
   "cell_type": "markdown",
   "id": "97d07835-3dd8-45a9-9a84-5120a71187f1",
   "metadata": {},
   "source": [
    "Let's read the dataset with titles:\n",
    "* `russian_title` - Russian title\n",
    "* `original_title` - original title \n",
    "* `country` - country of origin"
   ]
  },
  {
   "cell_type": "code",
   "execution_count": 7,
   "id": "0fe136fb-ed84-4157-a860-04c276a621c1",
   "metadata": {},
   "outputs": [
    {
     "data": {
      "text/plain": [
       "(984, 3)"
      ]
     },
     "execution_count": 7,
     "metadata": {},
     "output_type": "execute_result"
    }
   ],
   "source": [
    "movie_df = pd.read_parquet(\n",
    "    os.path.join(relative_path, \"movies_info.parquet\"),\n",
    "    columns=[\"russian_title\", \"original_title\", \"country\"],\n",
    ")\n",
    "movie_df.shape"
   ]
  },
  {
   "cell_type": "code",
   "execution_count": 8,
   "id": "67ec65f0",
   "metadata": {},
   "outputs": [
    {
     "data": {
      "text/html": [
       "<div>\n",
       "<style scoped>\n",
       "    .dataframe tbody tr th:only-of-type {\n",
       "        vertical-align: middle;\n",
       "    }\n",
       "\n",
       "    .dataframe tbody tr th {\n",
       "        vertical-align: top;\n",
       "    }\n",
       "\n",
       "    .dataframe thead th {\n",
       "        text-align: right;\n",
       "    }\n",
       "</style>\n",
       "<table border=\"1\" class=\"dataframe\">\n",
       "  <thead>\n",
       "    <tr style=\"text-align: right;\">\n",
       "      <th></th>\n",
       "      <th>russian_title</th>\n",
       "      <th>original_title</th>\n",
       "      <th>country</th>\n",
       "    </tr>\n",
       "  </thead>\n",
       "  <tbody>\n",
       "    <tr>\n",
       "      <th>0</th>\n",
       "      <td>12 разгневанных мужчин (1956)</td>\n",
       "      <td>12 Angry Men</td>\n",
       "      <td>США</td>\n",
       "    </tr>\n",
       "    <tr>\n",
       "      <th>1</th>\n",
       "      <td>Олдбой (2003)</td>\n",
       "      <td>Oldeuboi</td>\n",
       "      <td>Корея Южная</td>\n",
       "    </tr>\n",
       "    <tr>\n",
       "      <th>2</th>\n",
       "      <td>Назад в будущее (1985)</td>\n",
       "      <td>Back to the Future</td>\n",
       "      <td>США</td>\n",
       "    </tr>\n",
       "    <tr>\n",
       "      <th>3</th>\n",
       "      <td>Солярис (1972)</td>\n",
       "      <td></td>\n",
       "      <td>СССР</td>\n",
       "    </tr>\n",
       "    <tr>\n",
       "      <th>4</th>\n",
       "      <td>Банкир (2019)</td>\n",
       "      <td>The Banker</td>\n",
       "      <td>США</td>\n",
       "    </tr>\n",
       "    <tr>\n",
       "      <th>...</th>\n",
       "      <td>...</td>\n",
       "      <td>...</td>\n",
       "      <td>...</td>\n",
       "    </tr>\n",
       "    <tr>\n",
       "      <th>979</th>\n",
       "      <td>Непослушник (2022)</td>\n",
       "      <td></td>\n",
       "      <td>Россия</td>\n",
       "    </tr>\n",
       "    <tr>\n",
       "      <th>980</th>\n",
       "      <td>Мегрэ и таинственная девушка (2022)</td>\n",
       "      <td>Maigret</td>\n",
       "      <td>Франция, Бельгия</td>\n",
       "    </tr>\n",
       "    <tr>\n",
       "      <th>981</th>\n",
       "      <td>Ночной дозор (2004)</td>\n",
       "      <td></td>\n",
       "      <td>Россия</td>\n",
       "    </tr>\n",
       "    <tr>\n",
       "      <th>982</th>\n",
       "      <td>Таинственная река (2003)</td>\n",
       "      <td>Mystic River</td>\n",
       "      <td>США, Австралия</td>\n",
       "    </tr>\n",
       "    <tr>\n",
       "      <th>983</th>\n",
       "      <td>Подольские курсанты (2020)</td>\n",
       "      <td></td>\n",
       "      <td>Россия</td>\n",
       "    </tr>\n",
       "  </tbody>\n",
       "</table>\n",
       "<p>984 rows × 3 columns</p>\n",
       "</div>"
      ],
      "text/plain": [
       "                           russian_title      original_title           country\n",
       "0          12 разгневанных мужчин (1956)        12 Angry Men               США\n",
       "1                          Олдбой (2003)            Oldeuboi       Корея Южная\n",
       "2                 Назад в будущее (1985)  Back to the Future               США\n",
       "3                         Солярис (1972)                                  СССР\n",
       "4                          Банкир (2019)          The Banker               США\n",
       "..                                   ...                 ...               ...\n",
       "979                   Непослушник (2022)                                Россия\n",
       "980  Мегрэ и таинственная девушка (2022)             Maigret  Франция, Бельгия\n",
       "981                  Ночной дозор (2004)                                Россия\n",
       "982             Таинственная река (2003)        Mystic River    США, Австралия\n",
       "983           Подольские курсанты (2020)                                Россия\n",
       "\n",
       "[984 rows x 3 columns]"
      ]
     },
     "execution_count": 8,
     "metadata": {},
     "output_type": "execute_result"
    }
   ],
   "source": [
    "movie_df"
   ]
  },
  {
   "cell_type": "markdown",
   "id": "427cb733-344c-4a63-a0e2-da415d947b08",
   "metadata": {},
   "source": [
    "## Cleaning the data"
   ]
  },
  {
   "cell_type": "markdown",
   "id": "8217d891",
   "metadata": {},
   "source": [
    "### Filtering based on country"
   ]
  },
  {
   "cell_type": "code",
   "execution_count": 9,
   "id": "d8983c4b-05f2-43b7-a1ba-2e343062cf9b",
   "metadata": {},
   "outputs": [],
   "source": [
    "filters = [\"Япония\", \"Корея Южная\", \"Гонконг\", \"Китай\"]"
   ]
  },
  {
   "cell_type": "code",
   "execution_count": 10,
   "id": "503eb914-c101-40af-912c-9391631111ec",
   "metadata": {},
   "outputs": [
    {
     "data": {
      "text/html": [
       "<div>\n",
       "<style scoped>\n",
       "    .dataframe tbody tr th:only-of-type {\n",
       "        vertical-align: middle;\n",
       "    }\n",
       "\n",
       "    .dataframe tbody tr th {\n",
       "        vertical-align: top;\n",
       "    }\n",
       "\n",
       "    .dataframe thead th {\n",
       "        text-align: right;\n",
       "    }\n",
       "</style>\n",
       "<table border=\"1\" class=\"dataframe\">\n",
       "  <thead>\n",
       "    <tr style=\"text-align: right;\">\n",
       "      <th></th>\n",
       "      <th>russian_title</th>\n",
       "      <th>original_title</th>\n",
       "      <th>country</th>\n",
       "    </tr>\n",
       "  </thead>\n",
       "  <tbody>\n",
       "    <tr>\n",
       "      <th>1</th>\n",
       "      <td>Олдбой (2003)</td>\n",
       "      <td>Oldeuboi</td>\n",
       "      <td>Корея Южная</td>\n",
       "    </tr>\n",
       "    <tr>\n",
       "      <th>9</th>\n",
       "      <td>Сад изящных слов (2013)</td>\n",
       "      <td>Koto no ha no niwa</td>\n",
       "      <td>Япония</td>\n",
       "    </tr>\n",
       "    <tr>\n",
       "      <th>20</th>\n",
       "      <td>Девочка, покорившая время (2006)</td>\n",
       "      <td>Toki o kakeru shojo</td>\n",
       "      <td>Япония</td>\n",
       "    </tr>\n",
       "    <tr>\n",
       "      <th>35</th>\n",
       "      <td>Хочу съесть твою поджелудочную железу (2018)</td>\n",
       "      <td>Kimi no suizo wo tabetai</td>\n",
       "      <td>Япония</td>\n",
       "    </tr>\n",
       "    <tr>\n",
       "      <th>43</th>\n",
       "      <td>Легенда о Нараяме (1983)</td>\n",
       "      <td>Narayama bushiko</td>\n",
       "      <td>Япония</td>\n",
       "    </tr>\n",
       "  </tbody>\n",
       "</table>\n",
       "</div>"
      ],
      "text/plain": [
       "                                   russian_title            original_title  \\\n",
       "1                                  Олдбой (2003)                  Oldeuboi   \n",
       "9                        Сад изящных слов (2013)        Koto no ha no niwa   \n",
       "20              Девочка, покорившая время (2006)       Toki o kakeru shojo   \n",
       "35  Хочу съесть твою поджелудочную железу (2018)  Kimi no suizo wo tabetai   \n",
       "43                      Легенда о Нараяме (1983)          Narayama bushiko   \n",
       "\n",
       "        country  \n",
       "1   Корея Южная  \n",
       "9        Япония  \n",
       "20       Япония  \n",
       "35       Япония  \n",
       "43       Япония  "
      ]
     },
     "execution_count": 10,
     "metadata": {},
     "output_type": "execute_result"
    }
   ],
   "source": [
    "movie_df[movie_df[\"country\"].isin(filters)].head()"
   ]
  },
  {
   "cell_type": "markdown",
   "id": "2012b5c4-503d-475d-a76d-3218153f6bca",
   "metadata": {},
   "source": [
    "Let's remove records, where the country is in the list: \n",
    "```python \n",
    "[\"Япония\", \"Корея Южная\", \"Гонконг\", \"Китай\"]\n",
    "```\n",
    "Because currently we cannot produce good quality embeddings for transcriptions from hieroglyphs.  \n",
    "Also, let's drop the country column - we won't need it in the future analysis. "
   ]
  },
  {
   "cell_type": "code",
   "execution_count": 11,
   "id": "97b15d83-67a0-4160-8c3f-2664715af7b1",
   "metadata": {},
   "outputs": [],
   "source": [
    "movie_df = (\n",
    "    movie_df.loc[\n",
    "        movie_df[\"country\"].apply(lambda country: check_countries(country, filters))\n",
    "    ]\n",
    "    if \"country\" in movie_df.columns\n",
    "    else movie_df\n",
    ")\n",
    "\n",
    "movie_df = movie_df.drop(\"country\", axis=1, errors=\"ignore\")"
   ]
  },
  {
   "cell_type": "code",
   "execution_count": 12,
   "id": "3a9605a0-3a98-48f6-878b-d7c66f204850",
   "metadata": {},
   "outputs": [],
   "source": [
    "movie_df = movie_df.replace(r\"^\\s*$\", np.nan, regex=True)"
   ]
  },
  {
   "cell_type": "code",
   "execution_count": 13,
   "id": "95d505d7",
   "metadata": {},
   "outputs": [
    {
     "data": {
      "text/plain": [
       "(877, 2)"
      ]
     },
     "execution_count": 13,
     "metadata": {},
     "output_type": "execute_result"
    }
   ],
   "source": [
    "movie_df.shape"
   ]
  },
  {
   "cell_type": "code",
   "execution_count": 14,
   "id": "9aa0cc05-9234-4bf9-90c4-4cf88b0bdfd6",
   "metadata": {},
   "outputs": [
    {
     "data": {
      "text/html": [
       "<div>\n",
       "<style scoped>\n",
       "    .dataframe tbody tr th:only-of-type {\n",
       "        vertical-align: middle;\n",
       "    }\n",
       "\n",
       "    .dataframe tbody tr th {\n",
       "        vertical-align: top;\n",
       "    }\n",
       "\n",
       "    .dataframe thead th {\n",
       "        text-align: right;\n",
       "    }\n",
       "</style>\n",
       "<table border=\"1\" class=\"dataframe\">\n",
       "  <thead>\n",
       "    <tr style=\"text-align: right;\">\n",
       "      <th></th>\n",
       "      <th>russian_title</th>\n",
       "      <th>original_title</th>\n",
       "    </tr>\n",
       "  </thead>\n",
       "  <tbody>\n",
       "    <tr>\n",
       "      <th>797</th>\n",
       "      <td>Реквием по мечте (2000)</td>\n",
       "      <td>Requiem for a Dream</td>\n",
       "    </tr>\n",
       "    <tr>\n",
       "      <th>821</th>\n",
       "      <td>Битва за Севастополь (2015)</td>\n",
       "      <td>NaN</td>\n",
       "    </tr>\n",
       "    <tr>\n",
       "      <th>279</th>\n",
       "      <td>365 дней (2020)</td>\n",
       "      <td>365 dni</td>\n",
       "    </tr>\n",
       "    <tr>\n",
       "      <th>265</th>\n",
       "      <td>Новый Человек-паук (2012)</td>\n",
       "      <td>The Amazing Spider-Man</td>\n",
       "    </tr>\n",
       "    <tr>\n",
       "      <th>331</th>\n",
       "      <td>Бункер (2011)</td>\n",
       "      <td>La cara oculta</td>\n",
       "    </tr>\n",
       "    <tr>\n",
       "      <th>362</th>\n",
       "      <td>О чём говорят мужчины (2010)</td>\n",
       "      <td>NaN</td>\n",
       "    </tr>\n",
       "    <tr>\n",
       "      <th>401</th>\n",
       "      <td>После (2019)</td>\n",
       "      <td>After</td>\n",
       "    </tr>\n",
       "    <tr>\n",
       "      <th>909</th>\n",
       "      <td>Невероятная жизнь Уолтера Митти (2013)</td>\n",
       "      <td>The Secret Life of Walter Mitty</td>\n",
       "    </tr>\n",
       "    <tr>\n",
       "      <th>318</th>\n",
       "      <td>Непосредственно Каха! (2020)</td>\n",
       "      <td>NaN</td>\n",
       "    </tr>\n",
       "    <tr>\n",
       "      <th>48</th>\n",
       "      <td>1408 (2007)</td>\n",
       "      <td>1408</td>\n",
       "    </tr>\n",
       "  </tbody>\n",
       "</table>\n",
       "</div>"
      ],
      "text/plain": [
       "                              russian_title                   original_title\n",
       "797                 Реквием по мечте (2000)              Requiem for a Dream\n",
       "821             Битва за Севастополь (2015)                              NaN\n",
       "279                         365 дней (2020)                          365 dni\n",
       "265               Новый Человек-паук (2012)           The Amazing Spider-Man\n",
       "331                           Бункер (2011)                   La cara oculta\n",
       "362            О чём говорят мужчины (2010)                              NaN\n",
       "401                            После (2019)                            After\n",
       "909  Невероятная жизнь Уолтера Митти (2013)  The Secret Life of Walter Mitty\n",
       "318            Непосредственно Каха! (2020)                              NaN\n",
       "48                              1408 (2007)                             1408"
      ]
     },
     "execution_count": 14,
     "metadata": {},
     "output_type": "execute_result"
    }
   ],
   "source": [
    "movie_df.sample(10, random_state=SEED)"
   ]
  },
  {
   "cell_type": "markdown",
   "id": "94d24db8-a1eb-4823-a42b-1e14135826f8",
   "metadata": {},
   "source": [
    "We can see that the `russian_title` contains the release year for every film (or at least these 10 random samples).  \n",
    "This is an opportunity to clean the data."
   ]
  },
  {
   "cell_type": "markdown",
   "id": "bf54c9bb-d2fe-44e8-912b-2eaf170c9cc7",
   "metadata": {},
   "source": [
    "### Cleaning `russian_title`"
   ]
  },
  {
   "cell_type": "markdown",
   "id": "8484a5c1-bf2d-4dce-93fc-8a964e13944e",
   "metadata": {},
   "source": [
    "#### Approach 1: Removing last 6 characters"
   ]
  },
  {
   "cell_type": "markdown",
   "id": "630e4f24-a468-4cb1-a458-50930345677e",
   "metadata": {},
   "source": [
    "In the previous section we've found out that the `russian_title` contains the release year of the film.  \n",
    "Let's check that the last six characters from the `russian_title` is always the same and look like `(year)`."
   ]
  },
  {
   "cell_type": "code",
   "execution_count": 15,
   "id": "44d639d5-6a72-46fe-b1b7-70e6c48a1773",
   "metadata": {},
   "outputs": [
    {
     "data": {
      "text/plain": [
       "1956     1\n",
       "1970     1\n",
       "1971     1\n",
       "1975     1\n",
       "1959     1\n",
       "1974     1\n",
       "1977     1\n",
       " 1988    1\n",
       "1968     1\n",
       "1976     1\n",
       " 2022    1\n",
       "1939     1\n",
       "1978     2\n",
       "1973     2\n",
       "1980     2\n",
       "Name: russian_title, dtype: int64"
      ]
     },
     "execution_count": 15,
     "metadata": {},
     "output_type": "execute_result"
    }
   ],
   "source": [
    "six_chars = movie_df[\"russian_title\"].apply(\n",
    "    lambda s: s[-6:].replace(\"(\", \"\").replace(\")\", \"\")\n",
    ")\n",
    "six_chars.value_counts(ascending=True).iloc[:15]"
   ]
  },
  {
   "cell_type": "markdown",
   "id": "9816ed51-593a-4430-a08c-2ff3a569880a",
   "metadata": {},
   "source": [
    "We can see that amongst the most infrequent years there are little errors - year contains additional whitespaces.  \n",
    "I'm going to check the whole title for this case."
   ]
  },
  {
   "cell_type": "code",
   "execution_count": 16,
   "id": "8e009a24-a115-465b-a07d-944e2fcd5f49",
   "metadata": {},
   "outputs": [
    {
     "data": {
      "text/html": [
       "<div>\n",
       "<style scoped>\n",
       "    .dataframe tbody tr th:only-of-type {\n",
       "        vertical-align: middle;\n",
       "    }\n",
       "\n",
       "    .dataframe tbody tr th {\n",
       "        vertical-align: top;\n",
       "    }\n",
       "\n",
       "    .dataframe thead th {\n",
       "        text-align: right;\n",
       "    }\n",
       "</style>\n",
       "<table border=\"1\" class=\"dataframe\">\n",
       "  <thead>\n",
       "    <tr style=\"text-align: right;\">\n",
       "      <th></th>\n",
       "      <th>russian_title</th>\n",
       "      <th>original_title</th>\n",
       "    </tr>\n",
       "  </thead>\n",
       "  <tbody>\n",
       "    <tr>\n",
       "      <th>23</th>\n",
       "      <td>Привилегированные (ТВ, 2022)</td>\n",
       "      <td>Das Privileg</td>\n",
       "    </tr>\n",
       "    <tr>\n",
       "      <th>95</th>\n",
       "      <td>Собачье сердце (ТВ, 1988)</td>\n",
       "      <td>NaN</td>\n",
       "    </tr>\n",
       "  </tbody>\n",
       "</table>\n",
       "</div>"
      ],
      "text/plain": [
       "                   russian_title original_title\n",
       "23  Привилегированные (ТВ, 2022)   Das Privileg\n",
       "95     Собачье сердце (ТВ, 1988)            NaN"
      ]
     },
     "execution_count": 16,
     "metadata": {},
     "output_type": "execute_result"
    }
   ],
   "source": [
    "indices = [i for i, year in enumerate(six_chars.values) if \" \" in year]\n",
    "movie_df.iloc[indices]"
   ]
  },
  {
   "cell_type": "markdown",
   "id": "29928d44-e659-46ec-8bb0-59b9c3a4e34e",
   "metadata": {},
   "source": [
    "Aha!"
   ]
  },
  {
   "cell_type": "markdown",
   "id": "1641abd7-037e-45f9-9627-781506ab9dee",
   "metadata": {},
   "source": [
    "#### Approach 2: removing the whole parenthesis"
   ]
  },
  {
   "cell_type": "markdown",
   "id": "d5f495c3-00d5-4217-8273-56c513813ca9",
   "metadata": {},
   "source": [
    "Let's switch to another strategy - finding out whether every title contains substring like `(smth)` and if it is true, then remove such substring"
   ]
  },
  {
   "cell_type": "code",
   "execution_count": 17,
   "id": "0f4c0695-2b76-4d18-9142-aba5d3a2617b",
   "metadata": {},
   "outputs": [],
   "source": [
    "assert (\n",
    "    movie_df[\"russian_title\"].apply(has_numbers_in_square_brackets).sum()\n",
    "    == movie_df.shape[0]\n",
    "), \"Not every title has brackets with something inside\""
   ]
  },
  {
   "cell_type": "markdown",
   "id": "21fd49ce-6666-47f0-b328-d9e27c107bec",
   "metadata": {},
   "source": [
    "Every title contains some information in brackets - we don't really care what's inside them. Our goal is to clean the titles, so, we'll just delete the brackets with their contents."
   ]
  },
  {
   "cell_type": "code",
   "execution_count": 18,
   "id": "18280da0-a4f0-4f88-a712-5cee7a9fabc4",
   "metadata": {},
   "outputs": [
    {
     "data": {
      "text/plain": [
       "0            12 разгневанных мужчин\n",
       "2                   Назад в будущее\n",
       "3                           Солярис\n",
       "4                            Банкир\n",
       "5                             Борат\n",
       "                   ...             \n",
       "979                     Непослушник\n",
       "980    Мегрэ и таинственная девушка\n",
       "981                    Ночной дозор\n",
       "982               Таинственная река\n",
       "983             Подольские курсанты\n",
       "Name: russian_title, Length: 877, dtype: object"
      ]
     },
     "execution_count": 18,
     "metadata": {},
     "output_type": "execute_result"
    }
   ],
   "source": [
    "movie_df[\"russian_title\"] = movie_df[\"russian_title\"].apply(\n",
    "    lambda s: re.sub(r\"\\([^()]*\\)\", \"\", s).strip()\n",
    ")\n",
    "movie_df[\"russian_title\"]"
   ]
  },
  {
   "cell_type": "markdown",
   "id": "d392c300-12ab-4af6-989a-fb5ca38bc581",
   "metadata": {},
   "source": [
    "Just checking"
   ]
  },
  {
   "cell_type": "code",
   "execution_count": 19,
   "id": "af7f18dc-074b-4bc5-bc7e-5ce8fce51f2b",
   "metadata": {},
   "outputs": [],
   "source": [
    "assert (\n",
    "    movie_df[\"russian_title\"].apply(has_numbers_in_square_brackets).sum() == 0\n",
    "), \"Not all brackets were deleted - check the procedure\""
   ]
  },
  {
   "cell_type": "markdown",
   "id": "9ab9a5e5-4fe6-46a1-a937-531d82398fde",
   "metadata": {},
   "source": [
    "### Checking for duplicates"
   ]
  },
  {
   "cell_type": "code",
   "execution_count": 20,
   "id": "e90f6f78-ee28-4dea-a799-3ce94d6e7764",
   "metadata": {},
   "outputs": [
    {
     "data": {
      "text/plain": [
       "False"
      ]
     },
     "execution_count": 20,
     "metadata": {},
     "output_type": "execute_result"
    }
   ],
   "source": [
    "movie_df.drop_duplicates().shape == movie_df.shape"
   ]
  },
  {
   "cell_type": "markdown",
   "id": "edcf6ba0-e452-41cd-adbc-43e0beb73724",
   "metadata": {},
   "source": [
    "Let's clean the duplicates"
   ]
  },
  {
   "cell_type": "code",
   "execution_count": 21,
   "id": "89d3ed19-5d2f-41e6-8194-980ba23a0e41",
   "metadata": {},
   "outputs": [],
   "source": [
    "movie_df.drop_duplicates(inplace=True)\n",
    "assert movie_df.drop_duplicates().shape == movie_df.shape"
   ]
  },
  {
   "cell_type": "markdown",
   "id": "85b8afc7-9942-46aa-9705-2047319cad64",
   "metadata": {},
   "source": [
    "### Checking for missing values"
   ]
  },
  {
   "cell_type": "code",
   "execution_count": 22,
   "id": "db67ec59-087b-4c44-b9ba-759065bb5f59",
   "metadata": {},
   "outputs": [
    {
     "data": {
      "text/plain": [
       "russian_title     False\n",
       "original_title     True\n",
       "dtype: bool"
      ]
     },
     "execution_count": 22,
     "metadata": {},
     "output_type": "execute_result"
    }
   ],
   "source": [
    "movie_df.isna().any()"
   ]
  },
  {
   "cell_type": "markdown",
   "id": "43877d24-7478-4929-8dec-29f3636ca9a0",
   "metadata": {},
   "source": [
    "We can see that the 'original_title' column contains `NaN` values.  \n",
    "Probably, because not every movie has an `original_title` - maybe movie is Russian-made and doesn't have English-translated title, for example."
   ]
  },
  {
   "cell_type": "code",
   "execution_count": 23,
   "id": "ddfa4567-4a81-4c32-bf1c-731a215de26f",
   "metadata": {},
   "outputs": [
    {
     "data": {
      "text/html": [
       "<div>\n",
       "<style scoped>\n",
       "    .dataframe tbody tr th:only-of-type {\n",
       "        vertical-align: middle;\n",
       "    }\n",
       "\n",
       "    .dataframe tbody tr th {\n",
       "        vertical-align: top;\n",
       "    }\n",
       "\n",
       "    .dataframe thead th {\n",
       "        text-align: right;\n",
       "    }\n",
       "</style>\n",
       "<table border=\"1\" class=\"dataframe\">\n",
       "  <thead>\n",
       "    <tr style=\"text-align: right;\">\n",
       "      <th></th>\n",
       "      <th>russian_title</th>\n",
       "      <th>original_title</th>\n",
       "    </tr>\n",
       "  </thead>\n",
       "  <tbody>\n",
       "    <tr>\n",
       "      <th>3</th>\n",
       "      <td>Солярис</td>\n",
       "      <td>NaN</td>\n",
       "    </tr>\n",
       "    <tr>\n",
       "      <th>13</th>\n",
       "      <td>Первый Оскар</td>\n",
       "      <td>NaN</td>\n",
       "    </tr>\n",
       "    <tr>\n",
       "      <th>18</th>\n",
       "      <td>Иллюзия контроля</td>\n",
       "      <td>NaN</td>\n",
       "    </tr>\n",
       "    <tr>\n",
       "      <th>36</th>\n",
       "      <td>Казнь</td>\n",
       "      <td>NaN</td>\n",
       "    </tr>\n",
       "    <tr>\n",
       "      <th>37</th>\n",
       "      <td>Подельники</td>\n",
       "      <td>NaN</td>\n",
       "    </tr>\n",
       "    <tr>\n",
       "      <th>...</th>\n",
       "      <td>...</td>\n",
       "      <td>...</td>\n",
       "    </tr>\n",
       "    <tr>\n",
       "      <th>943</th>\n",
       "      <td>Летчик</td>\n",
       "      <td>NaN</td>\n",
       "    </tr>\n",
       "    <tr>\n",
       "      <th>953</th>\n",
       "      <td>Стикер</td>\n",
       "      <td>NaN</td>\n",
       "    </tr>\n",
       "    <tr>\n",
       "      <th>979</th>\n",
       "      <td>Непослушник</td>\n",
       "      <td>NaN</td>\n",
       "    </tr>\n",
       "    <tr>\n",
       "      <th>981</th>\n",
       "      <td>Ночной дозор</td>\n",
       "      <td>NaN</td>\n",
       "    </tr>\n",
       "    <tr>\n",
       "      <th>983</th>\n",
       "      <td>Подольские курсанты</td>\n",
       "      <td>NaN</td>\n",
       "    </tr>\n",
       "  </tbody>\n",
       "</table>\n",
       "<p>131 rows × 2 columns</p>\n",
       "</div>"
      ],
      "text/plain": [
       "           russian_title original_title\n",
       "3                Солярис            NaN\n",
       "13          Первый Оскар            NaN\n",
       "18      Иллюзия контроля            NaN\n",
       "36                 Казнь            NaN\n",
       "37            Подельники            NaN\n",
       "..                   ...            ...\n",
       "943               Летчик            NaN\n",
       "953               Стикер            NaN\n",
       "979          Непослушник            NaN\n",
       "981         Ночной дозор            NaN\n",
       "983  Подольские курсанты            NaN\n",
       "\n",
       "[131 rows x 2 columns]"
      ]
     },
     "execution_count": 23,
     "metadata": {},
     "output_type": "execute_result"
    }
   ],
   "source": [
    "movie_df[movie_df.isnull().any(axis=1)]"
   ]
  },
  {
   "cell_type": "markdown",
   "id": "927a1107-8761-4b0f-8bb4-2378f824e146",
   "metadata": {},
   "source": [
    "Yes, my assumption was right.  \n",
    "I think it is reasonable to drop such rows."
   ]
  },
  {
   "cell_type": "code",
   "execution_count": 24,
   "id": "a4dcea2f-e89e-48eb-a607-4b9af406a178",
   "metadata": {},
   "outputs": [
    {
     "data": {
      "text/plain": [
       "(744, 2)"
      ]
     },
     "execution_count": 24,
     "metadata": {},
     "output_type": "execute_result"
    }
   ],
   "source": [
    "movie_df = (\n",
    "    movie_df.dropna(axis=0, inplace=False) if movie_df.isna().any().any() else movie_df\n",
    ")\n",
    "movie_df.shape"
   ]
  },
  {
   "cell_type": "code",
   "execution_count": 25,
   "id": "12d5677f-479a-41f7-a076-41082576d206",
   "metadata": {},
   "outputs": [],
   "source": [
    "assert movie_df.isna().any().any() == False"
   ]
  },
  {
   "cell_type": "markdown",
   "id": "5ea43dc3-e103-4a67-b008-82e22ea33b4d",
   "metadata": {},
   "source": [
    "## Semantic similarity"
   ]
  },
  {
   "cell_type": "markdown",
   "id": "6951f646-5002-4214-9b33-cee2a5f04825",
   "metadata": {},
   "source": [
    "### Getting titles"
   ]
  },
  {
   "cell_type": "code",
   "execution_count": 26,
   "id": "a2b185f5-9a9e-4b22-a66c-b4f852e19e8b",
   "metadata": {},
   "outputs": [],
   "source": [
    "russian_titles = movie_df[\"russian_title\"].values\n",
    "original_titles = movie_df[\"original_title\"].values"
   ]
  },
  {
   "cell_type": "markdown",
   "id": "050649ce-d6ef-4b92-8350-738efe38fbc9",
   "metadata": {},
   "source": [
    "### Debug opportunities"
   ]
  },
  {
   "cell_type": "code",
   "execution_count": 27,
   "id": "d46e02ba-a659-4723-bcd1-fbce097c01c6",
   "metadata": {},
   "outputs": [],
   "source": [
    "# embeddings = compute_embeddings(distil_use_v2, russian_titles, original_titles)\n",
    "# similarity_scores = compute_similarity(*embeddings)"
   ]
  },
  {
   "cell_type": "markdown",
   "id": "3c58c788-d17e-4d05-bee5-50a30a4ab3e3",
   "metadata": {},
   "source": [
    "### Choosing model"
   ]
  },
  {
   "cell_type": "markdown",
   "id": "6eb6bda1-7730-4930-bec0-42404cbd9e60",
   "metadata": {},
   "source": [
    "We are going to use multilingual models from [SentenceTransformers](https://www.sbert.net/docs/pretrained_models.html#multi-lingual-models) framework"
   ]
  },
  {
   "cell_type": "code",
   "execution_count": 28,
   "id": "3bdf4a92-0650-46be-9bbd-6c607b5737d7",
   "metadata": {},
   "outputs": [
    {
     "data": {
      "application/vnd.jupyter.widget-view+json": {
       "model_id": "083626a05a7e45c58b672690ed5d28cb",
       "version_major": 2,
       "version_minor": 0
      },
      "text/plain": [
       "Downloading:   0%|          | 0.00/2.38k [00:00<?, ?B/s]"
      ]
     },
     "metadata": {},
     "output_type": "display_data"
    },
    {
     "data": {
      "application/vnd.jupyter.widget-view+json": {
       "model_id": "4e22728343154ac5bd2e1af7921dba5b",
       "version_major": 2,
       "version_minor": 0
      },
      "text/plain": [
       "Downloading:   0%|          | 0.00/610 [00:00<?, ?B/s]"
      ]
     },
     "metadata": {},
     "output_type": "display_data"
    },
    {
     "data": {
      "application/vnd.jupyter.widget-view+json": {
       "model_id": "eeb1b7c4bf044df9bfc4d38edf8f07a9",
       "version_major": 2,
       "version_minor": 0
      },
      "text/plain": [
       "Downloading:   0%|          | 0.00/122 [00:00<?, ?B/s]"
      ]
     },
     "metadata": {},
     "output_type": "display_data"
    },
    {
     "data": {
      "application/vnd.jupyter.widget-view+json": {
       "model_id": "ef814a41acd34da6a7862af18102df1d",
       "version_major": 2,
       "version_minor": 0
      },
      "text/plain": [
       "Downloading:   0%|          | 0.00/539M [00:00<?, ?B/s]"
      ]
     },
     "metadata": {},
     "output_type": "display_data"
    },
    {
     "data": {
      "application/vnd.jupyter.widget-view+json": {
       "model_id": "3c2372d4bc354d9398a43417233c5727",
       "version_major": 2,
       "version_minor": 0
      },
      "text/plain": [
       "Downloading:   0%|          | 0.00/53.0 [00:00<?, ?B/s]"
      ]
     },
     "metadata": {},
     "output_type": "display_data"
    },
    {
     "data": {
      "application/vnd.jupyter.widget-view+json": {
       "model_id": "06d16754243148a7bbdfd34c9e770215",
       "version_major": 2,
       "version_minor": 0
      },
      "text/plain": [
       "Downloading:   0%|          | 0.00/112 [00:00<?, ?B/s]"
      ]
     },
     "metadata": {},
     "output_type": "display_data"
    },
    {
     "data": {
      "application/vnd.jupyter.widget-view+json": {
       "model_id": "07526aedbdc64a68a9aa24de792dfc16",
       "version_major": 2,
       "version_minor": 0
      },
      "text/plain": [
       "Downloading:   0%|          | 0.00/1.96M [00:00<?, ?B/s]"
      ]
     },
     "metadata": {},
     "output_type": "display_data"
    },
    {
     "data": {
      "application/vnd.jupyter.widget-view+json": {
       "model_id": "64562be492d64a1781ef64cc32bb40da",
       "version_major": 2,
       "version_minor": 0
      },
      "text/plain": [
       "Downloading:   0%|          | 0.00/531 [00:00<?, ?B/s]"
      ]
     },
     "metadata": {},
     "output_type": "display_data"
    },
    {
     "data": {
      "application/vnd.jupyter.widget-view+json": {
       "model_id": "75825628c2674b4ca8ab0e77f922c61b",
       "version_major": 2,
       "version_minor": 0
      },
      "text/plain": [
       "Downloading:   0%|          | 0.00/996k [00:00<?, ?B/s]"
      ]
     },
     "metadata": {},
     "output_type": "display_data"
    },
    {
     "data": {
      "application/vnd.jupyter.widget-view+json": {
       "model_id": "7abeda06fd3943fa9aa5c3d8b7c9f491",
       "version_major": 2,
       "version_minor": 0
      },
      "text/plain": [
       "Downloading:   0%|          | 0.00/341 [00:00<?, ?B/s]"
      ]
     },
     "metadata": {},
     "output_type": "display_data"
    },
    {
     "data": {
      "application/vnd.jupyter.widget-view+json": {
       "model_id": "ca660efbf30b4f89862cf6a6fc374901",
       "version_major": 2,
       "version_minor": 0
      },
      "text/plain": [
       "Downloading:   0%|          | 0.00/968 [00:00<?, ?B/s]"
      ]
     },
     "metadata": {},
     "output_type": "display_data"
    },
    {
     "data": {
      "application/vnd.jupyter.widget-view+json": {
       "model_id": "8acbf6832efd4b4b9254a3b8388fb08b",
       "version_major": 2,
       "version_minor": 0
      },
      "text/plain": [
       "Downloading:   0%|          | 0.00/190 [00:00<?, ?B/s]"
      ]
     },
     "metadata": {},
     "output_type": "display_data"
    },
    {
     "data": {
      "application/vnd.jupyter.widget-view+json": {
       "model_id": "bf09c41eaa57407b964d9cb7cb637c37",
       "version_major": 2,
       "version_minor": 0
      },
      "text/plain": [
       "Downloading:   0%|          | 0.00/3.79k [00:00<?, ?B/s]"
      ]
     },
     "metadata": {},
     "output_type": "display_data"
    },
    {
     "data": {
      "application/vnd.jupyter.widget-view+json": {
       "model_id": "18388b500707448ba01353dfd5ebc1a9",
       "version_major": 2,
       "version_minor": 0
      },
      "text/plain": [
       "Downloading:   0%|          | 0.00/645 [00:00<?, ?B/s]"
      ]
     },
     "metadata": {},
     "output_type": "display_data"
    },
    {
     "data": {
      "application/vnd.jupyter.widget-view+json": {
       "model_id": "d1f3ace90ac14f63aeb64334cfaf1c00",
       "version_major": 2,
       "version_minor": 0
      },
      "text/plain": [
       "Downloading:   0%|          | 0.00/122 [00:00<?, ?B/s]"
      ]
     },
     "metadata": {},
     "output_type": "display_data"
    },
    {
     "data": {
      "application/vnd.jupyter.widget-view+json": {
       "model_id": "5491733841e7423a890aa2586f5c14f5",
       "version_major": 2,
       "version_minor": 0
      },
      "text/plain": [
       "Downloading:   0%|          | 0.00/471M [00:00<?, ?B/s]"
      ]
     },
     "metadata": {},
     "output_type": "display_data"
    },
    {
     "data": {
      "application/vnd.jupyter.widget-view+json": {
       "model_id": "3bc67825c9cc4e1d8ceb3ad629067845",
       "version_major": 2,
       "version_minor": 0
      },
      "text/plain": [
       "Downloading:   0%|          | 0.00/53.0 [00:00<?, ?B/s]"
      ]
     },
     "metadata": {},
     "output_type": "display_data"
    },
    {
     "data": {
      "application/vnd.jupyter.widget-view+json": {
       "model_id": "b6ee5d79e10b405581e883af07aa1f88",
       "version_major": 2,
       "version_minor": 0
      },
      "text/plain": [
       "Downloading:   0%|          | 0.00/5.07M [00:00<?, ?B/s]"
      ]
     },
     "metadata": {},
     "output_type": "display_data"
    },
    {
     "data": {
      "application/vnd.jupyter.widget-view+json": {
       "model_id": "5a75c0406b74467792ce7282798d1bb4",
       "version_major": 2,
       "version_minor": 0
      },
      "text/plain": [
       "Downloading:   0%|          | 0.00/239 [00:00<?, ?B/s]"
      ]
     },
     "metadata": {},
     "output_type": "display_data"
    },
    {
     "data": {
      "application/vnd.jupyter.widget-view+json": {
       "model_id": "13d354b316f04be783c53cb9c57a62e6",
       "version_major": 2,
       "version_minor": 0
      },
      "text/plain": [
       "Downloading:   0%|          | 0.00/9.08M [00:00<?, ?B/s]"
      ]
     },
     "metadata": {},
     "output_type": "display_data"
    },
    {
     "data": {
      "application/vnd.jupyter.widget-view+json": {
       "model_id": "0f819e5ed50f417b93abac60783614e4",
       "version_major": 2,
       "version_minor": 0
      },
      "text/plain": [
       "Downloading:   0%|          | 0.00/480 [00:00<?, ?B/s]"
      ]
     },
     "metadata": {},
     "output_type": "display_data"
    },
    {
     "data": {
      "application/vnd.jupyter.widget-view+json": {
       "model_id": "92330e3937fa4d4a864478f97139c206",
       "version_major": 2,
       "version_minor": 0
      },
      "text/plain": [
       "Downloading:   0%|          | 0.00/14.8M [00:00<?, ?B/s]"
      ]
     },
     "metadata": {},
     "output_type": "display_data"
    },
    {
     "data": {
      "application/vnd.jupyter.widget-view+json": {
       "model_id": "fb023d62fbf740af905d12aa76cf5743",
       "version_major": 2,
       "version_minor": 0
      },
      "text/plain": [
       "Downloading:   0%|          | 0.00/229 [00:00<?, ?B/s]"
      ]
     },
     "metadata": {},
     "output_type": "display_data"
    },
    {
     "data": {
      "application/vnd.jupyter.widget-view+json": {
       "model_id": "833fb0ddc8df49e1aec5035848a8f4e8",
       "version_major": 2,
       "version_minor": 0
      },
      "text/plain": [
       "Downloading:   0%|          | 0.00/690 [00:00<?, ?B/s]"
      ]
     },
     "metadata": {},
     "output_type": "display_data"
    },
    {
     "data": {
      "application/vnd.jupyter.widget-view+json": {
       "model_id": "551057ab4cb64c028b68c2c2660e44a8",
       "version_major": 2,
       "version_minor": 0
      },
      "text/plain": [
       "Downloading:   0%|          | 0.00/190 [00:00<?, ?B/s]"
      ]
     },
     "metadata": {},
     "output_type": "display_data"
    },
    {
     "data": {
      "application/vnd.jupyter.widget-view+json": {
       "model_id": "373535a857bc450b82f5209d2e556f72",
       "version_major": 2,
       "version_minor": 0
      },
      "text/plain": [
       "Downloading:   0%|          | 0.00/3.77k [00:00<?, ?B/s]"
      ]
     },
     "metadata": {},
     "output_type": "display_data"
    },
    {
     "data": {
      "application/vnd.jupyter.widget-view+json": {
       "model_id": "f8e9b627abca4c2291fb748a4fa540ea",
       "version_major": 2,
       "version_minor": 0
      },
      "text/plain": [
       "Downloading:   0%|          | 0.00/723 [00:00<?, ?B/s]"
      ]
     },
     "metadata": {},
     "output_type": "display_data"
    },
    {
     "data": {
      "application/vnd.jupyter.widget-view+json": {
       "model_id": "41cbc5903e494615965293896682cda0",
       "version_major": 2,
       "version_minor": 0
      },
      "text/plain": [
       "Downloading:   0%|          | 0.00/122 [00:00<?, ?B/s]"
      ]
     },
     "metadata": {},
     "output_type": "display_data"
    },
    {
     "data": {
      "application/vnd.jupyter.widget-view+json": {
       "model_id": "f17f54c6917b4f2ea5fc7ea66a9d5897",
       "version_major": 2,
       "version_minor": 0
      },
      "text/plain": [
       "Downloading:   0%|          | 0.00/1.11G [00:00<?, ?B/s]"
      ]
     },
     "metadata": {},
     "output_type": "display_data"
    },
    {
     "data": {
      "application/vnd.jupyter.widget-view+json": {
       "model_id": "1612a53c6ab641738adcad383449342f",
       "version_major": 2,
       "version_minor": 0
      },
      "text/plain": [
       "Downloading:   0%|          | 0.00/53.0 [00:00<?, ?B/s]"
      ]
     },
     "metadata": {},
     "output_type": "display_data"
    },
    {
     "data": {
      "application/vnd.jupyter.widget-view+json": {
       "model_id": "a5c68aa670334f37bbb1ac52c188d5c1",
       "version_major": 2,
       "version_minor": 0
      },
      "text/plain": [
       "Downloading:   0%|          | 0.00/5.07M [00:00<?, ?B/s]"
      ]
     },
     "metadata": {},
     "output_type": "display_data"
    },
    {
     "data": {
      "application/vnd.jupyter.widget-view+json": {
       "model_id": "83f39b867da54abd984c38cc0c63fd32",
       "version_major": 2,
       "version_minor": 0
      },
      "text/plain": [
       "Downloading:   0%|          | 0.00/239 [00:00<?, ?B/s]"
      ]
     },
     "metadata": {},
     "output_type": "display_data"
    },
    {
     "data": {
      "application/vnd.jupyter.widget-view+json": {
       "model_id": "b4161ae123c2404b9edf7f8161251f47",
       "version_major": 2,
       "version_minor": 0
      },
      "text/plain": [
       "Downloading:   0%|          | 0.00/9.08M [00:00<?, ?B/s]"
      ]
     },
     "metadata": {},
     "output_type": "display_data"
    },
    {
     "data": {
      "application/vnd.jupyter.widget-view+json": {
       "model_id": "01c39c90e2204f7bbc16eeb4e87e09f3",
       "version_major": 2,
       "version_minor": 0
      },
      "text/plain": [
       "Downloading:   0%|          | 0.00/402 [00:00<?, ?B/s]"
      ]
     },
     "metadata": {},
     "output_type": "display_data"
    },
    {
     "data": {
      "application/vnd.jupyter.widget-view+json": {
       "model_id": "9fe8b5f56f924d97b767e98124c66dc0",
       "version_major": 2,
       "version_minor": 0
      },
      "text/plain": [
       "Downloading:   0%|          | 0.00/229 [00:00<?, ?B/s]"
      ]
     },
     "metadata": {},
     "output_type": "display_data"
    },
    {
     "data": {
      "application/vnd.jupyter.widget-view+json": {
       "model_id": "86787c0b8ced471abedfa57507e0fea6",
       "version_major": 2,
       "version_minor": 0
      },
      "text/plain": [
       "Downloading:   0%|          | 0.00/391 [00:00<?, ?B/s]"
      ]
     },
     "metadata": {},
     "output_type": "display_data"
    },
    {
     "data": {
      "application/vnd.jupyter.widget-view+json": {
       "model_id": "43b1b29f366344b1a5386d93950530b4",
       "version_major": 2,
       "version_minor": 0
      },
      "text/plain": [
       "Downloading:   0%|          | 0.00/190 [00:00<?, ?B/s]"
      ]
     },
     "metadata": {},
     "output_type": "display_data"
    },
    {
     "data": {
      "application/vnd.jupyter.widget-view+json": {
       "model_id": "91a0d35466304e7da7833ae310d5063e",
       "version_major": 2,
       "version_minor": 0
      },
      "text/plain": [
       "Downloading:   0%|          | 0.00/114 [00:00<?, ?B/s]"
      ]
     },
     "metadata": {},
     "output_type": "display_data"
    },
    {
     "data": {
      "application/vnd.jupyter.widget-view+json": {
       "model_id": "5e328f5e18244818b517dbd21a678c1a",
       "version_major": 2,
       "version_minor": 0
      },
      "text/plain": [
       "Downloading:   0%|          | 0.00/2.36M [00:00<?, ?B/s]"
      ]
     },
     "metadata": {},
     "output_type": "display_data"
    },
    {
     "data": {
      "application/vnd.jupyter.widget-view+json": {
       "model_id": "cb2dc5b695ce408e81ce15601833c979",
       "version_major": 2,
       "version_minor": 0
      },
      "text/plain": [
       "Downloading:   0%|          | 0.00/1.62k [00:00<?, ?B/s]"
      ]
     },
     "metadata": {},
     "output_type": "display_data"
    },
    {
     "data": {
      "application/vnd.jupyter.widget-view+json": {
       "model_id": "7cbffb58dc324050b34aa75d6ae0dfeb",
       "version_major": 2,
       "version_minor": 0
      },
      "text/plain": [
       "Downloading:   0%|          | 0.00/804 [00:00<?, ?B/s]"
      ]
     },
     "metadata": {},
     "output_type": "display_data"
    },
    {
     "data": {
      "application/vnd.jupyter.widget-view+json": {
       "model_id": "f01cd986940c4dc8b42ae8135faaba01",
       "version_major": 2,
       "version_minor": 0
      },
      "text/plain": [
       "Downloading:   0%|          | 0.00/122 [00:00<?, ?B/s]"
      ]
     },
     "metadata": {},
     "output_type": "display_data"
    },
    {
     "data": {
      "application/vnd.jupyter.widget-view+json": {
       "model_id": "d549c183b1d4488caeb4672a9fe26d3e",
       "version_major": 2,
       "version_minor": 0
      },
      "text/plain": [
       "Downloading:   0%|          | 0.00/1.88G [00:00<?, ?B/s]"
      ]
     },
     "metadata": {},
     "output_type": "display_data"
    },
    {
     "data": {
      "application/vnd.jupyter.widget-view+json": {
       "model_id": "ac6472d0be73443c9a5b3737fde9da9d",
       "version_major": 2,
       "version_minor": 0
      },
      "text/plain": [
       "Downloading:   0%|          | 0.00/53.0 [00:00<?, ?B/s]"
      ]
     },
     "metadata": {},
     "output_type": "display_data"
    },
    {
     "data": {
      "application/vnd.jupyter.widget-view+json": {
       "model_id": "9b7e690a3ef34e66b9e0e6cab2c122c0",
       "version_major": 2,
       "version_minor": 0
      },
      "text/plain": [
       "Downloading:   0%|          | 0.00/112 [00:00<?, ?B/s]"
      ]
     },
     "metadata": {},
     "output_type": "display_data"
    },
    {
     "data": {
      "application/vnd.jupyter.widget-view+json": {
       "model_id": "6860cf1535cd42f68d1d529b7bca1022",
       "version_major": 2,
       "version_minor": 0
      },
      "text/plain": [
       "Downloading:   0%|          | 0.00/9.62M [00:00<?, ?B/s]"
      ]
     },
     "metadata": {},
     "output_type": "display_data"
    },
    {
     "data": {
      "application/vnd.jupyter.widget-view+json": {
       "model_id": "3eca35dddaea4ceabeb9211fc364fd97",
       "version_major": 2,
       "version_minor": 0
      },
      "text/plain": [
       "Downloading:   0%|          | 0.00/411 [00:00<?, ?B/s]"
      ]
     },
     "metadata": {},
     "output_type": "display_data"
    },
    {
     "data": {
      "application/vnd.jupyter.widget-view+json": {
       "model_id": "defc3229257440cda5f122f45b5692ca",
       "version_major": 2,
       "version_minor": 0
      },
      "text/plain": [
       "Downloading:   0%|          | 0.00/5.22M [00:00<?, ?B/s]"
      ]
     },
     "metadata": {},
     "output_type": "display_data"
    },
    {
     "data": {
      "application/vnd.jupyter.widget-view+json": {
       "model_id": "c22374a4ad55435a83a257aea37eb6e2",
       "version_major": 2,
       "version_minor": 0
      },
      "text/plain": [
       "Downloading:   0%|          | 0.00/461 [00:00<?, ?B/s]"
      ]
     },
     "metadata": {},
     "output_type": "display_data"
    }
   ],
   "source": [
    "distil_use_v1 = SentenceTransformer(\"distiluse-base-multilingual-cased-v1\")\n",
    "distil_use_v2 = SentenceTransformer(\"distiluse-base-multilingual-cased-v2\")\n",
    "minilm = SentenceTransformer(\"paraphrase-multilingual-MiniLM-L12-v2\")\n",
    "mpnet = SentenceTransformer(\"paraphrase-multilingual-mpnet-base-v2\")\n",
    "labse = SentenceTransformer(\"LaBSE\")"
   ]
  },
  {
   "cell_type": "markdown",
   "id": "56ad4a6b-d860-48ab-92e8-49812e548c77",
   "metadata": {},
   "source": [
    "The quality of embeddings which I've used were evaluated [here](https://habr.com/ru/post/669674/) by David Dale.  \n",
    "Almost all of them are at the top average performance on sentence tasks, so for now I will limit the analysis to them."
   ]
  },
  {
   "cell_type": "code",
   "execution_count": 29,
   "id": "387aa3a9-311e-4c4f-bd3a-c29430fa1840",
   "metadata": {},
   "outputs": [],
   "source": [
    "models = {\n",
    "    \"distiluse-base-multilingual-cased-v1\": distil_use_v1,\n",
    "    \"distiluse-base-multilingual-cased-v2\": distil_use_v2,\n",
    "    \"paraphrase-multilingual-MiniLM-L12-v2\": minilm,\n",
    "    \"paraphrase-multilingual-mpnet-base-v2\": mpnet,\n",
    "    \"LaBSE\": labse,\n",
    "}"
   ]
  },
  {
   "cell_type": "markdown",
   "id": "9cf50a26-66e7-4169-a558-098c6d386ea5",
   "metadata": {},
   "source": [
    "### Sanity check"
   ]
  },
  {
   "cell_type": "markdown",
   "id": "3dc10abd-aa36-4345-806e-a5898faf3e5a",
   "metadata": {},
   "source": [
    "Before moving on I'd like to check the sanity of the models - assess how well they predict the similarity between Russian and original titles"
   ]
  },
  {
   "cell_type": "code",
   "execution_count": 30,
   "id": "c6f4a3e3-6f17-4610-99a5-86a739442fb0",
   "metadata": {},
   "outputs": [
    {
     "name": "stdout",
     "output_type": "stream",
     "text": [
      "distiluse-base-multilingual-cased-v1\n"
     ]
    },
    {
     "data": {
      "text/html": [
       "<div>\n",
       "<style scoped>\n",
       "    .dataframe tbody tr th:only-of-type {\n",
       "        vertical-align: middle;\n",
       "    }\n",
       "\n",
       "    .dataframe tbody tr th {\n",
       "        vertical-align: top;\n",
       "    }\n",
       "\n",
       "    .dataframe thead th {\n",
       "        text-align: right;\n",
       "    }\n",
       "</style>\n",
       "<table border=\"1\" class=\"dataframe\">\n",
       "  <thead>\n",
       "    <tr style=\"text-align: right;\">\n",
       "      <th></th>\n",
       "      <th>russian_title</th>\n",
       "      <th>original_title</th>\n",
       "      <th>similarity</th>\n",
       "    </tr>\n",
       "  </thead>\n",
       "  <tbody>\n",
       "    <tr>\n",
       "      <th>609</th>\n",
       "      <td>Звёздные войны: Эпизод 2 — Атака клонов</td>\n",
       "      <td>Star Wars: Episode II - Attack of the Clones</td>\n",
       "      <td>0.715</td>\n",
       "    </tr>\n",
       "    <tr>\n",
       "      <th>539</th>\n",
       "      <td>Гангстер</td>\n",
       "      <td>American Gangster</td>\n",
       "      <td>0.497</td>\n",
       "    </tr>\n",
       "    <tr>\n",
       "      <th>694</th>\n",
       "      <td>Я, робот</td>\n",
       "      <td>I, Robot</td>\n",
       "      <td>0.900</td>\n",
       "    </tr>\n",
       "    <tr>\n",
       "      <th>350</th>\n",
       "      <td>Побег из Шоушенка</td>\n",
       "      <td>The Shawshank Redemption</td>\n",
       "      <td>0.401</td>\n",
       "    </tr>\n",
       "    <tr>\n",
       "      <th>174</th>\n",
       "      <td>Дорога перемен</td>\n",
       "      <td>Revolutionary Road</td>\n",
       "      <td>0.720</td>\n",
       "    </tr>\n",
       "    <tr>\n",
       "      <th>81</th>\n",
       "      <td>Пылающее море</td>\n",
       "      <td>Nordsjøen</td>\n",
       "      <td>0.324</td>\n",
       "    </tr>\n",
       "    <tr>\n",
       "      <th>355</th>\n",
       "      <td>Однажды в Америке</td>\n",
       "      <td>Once Upon a Time in America</td>\n",
       "      <td>0.885</td>\n",
       "    </tr>\n",
       "    <tr>\n",
       "      <th>424</th>\n",
       "      <td>Хороший год</td>\n",
       "      <td>A Good Year</td>\n",
       "      <td>0.968</td>\n",
       "    </tr>\n",
       "    <tr>\n",
       "      <th>523</th>\n",
       "      <td>Аватар</td>\n",
       "      <td>Avatar</td>\n",
       "      <td>0.897</td>\n",
       "    </tr>\n",
       "    <tr>\n",
       "      <th>617</th>\n",
       "      <td>Список Шиндлера</td>\n",
       "      <td>Schindler's List</td>\n",
       "      <td>0.878</td>\n",
       "    </tr>\n",
       "  </tbody>\n",
       "</table>\n",
       "</div>"
      ],
      "text/plain": [
       "                               russian_title  \\\n",
       "609  Звёздные войны: Эпизод 2 — Атака клонов   \n",
       "539                                 Гангстер   \n",
       "694                                 Я, робот   \n",
       "350                        Побег из Шоушенка   \n",
       "174                           Дорога перемен   \n",
       "81                             Пылающее море   \n",
       "355                        Однажды в Америке   \n",
       "424                              Хороший год   \n",
       "523                                   Аватар   \n",
       "617                          Список Шиндлера   \n",
       "\n",
       "                                   original_title  similarity  \n",
       "609  Star Wars: Episode II - Attack of the Clones       0.715  \n",
       "539                             American Gangster       0.497  \n",
       "694                                      I, Robot       0.900  \n",
       "350                      The Shawshank Redemption       0.401  \n",
       "174                            Revolutionary Road       0.720  \n",
       "81                                      Nordsjøen       0.324  \n",
       "355                   Once Upon a Time in America       0.885  \n",
       "424                                   A Good Year       0.968  \n",
       "523                                        Avatar       0.897  \n",
       "617                              Schindler's List       0.878  "
      ]
     },
     "metadata": {},
     "output_type": "display_data"
    },
    {
     "name": "stdout",
     "output_type": "stream",
     "text": [
      "\n",
      "\n",
      "distiluse-base-multilingual-cased-v2\n"
     ]
    },
    {
     "data": {
      "text/html": [
       "<div>\n",
       "<style scoped>\n",
       "    .dataframe tbody tr th:only-of-type {\n",
       "        vertical-align: middle;\n",
       "    }\n",
       "\n",
       "    .dataframe tbody tr th {\n",
       "        vertical-align: top;\n",
       "    }\n",
       "\n",
       "    .dataframe thead th {\n",
       "        text-align: right;\n",
       "    }\n",
       "</style>\n",
       "<table border=\"1\" class=\"dataframe\">\n",
       "  <thead>\n",
       "    <tr style=\"text-align: right;\">\n",
       "      <th></th>\n",
       "      <th>russian_title</th>\n",
       "      <th>original_title</th>\n",
       "      <th>similarity</th>\n",
       "    </tr>\n",
       "  </thead>\n",
       "  <tbody>\n",
       "    <tr>\n",
       "      <th>609</th>\n",
       "      <td>Звёздные войны: Эпизод 2 — Атака клонов</td>\n",
       "      <td>Star Wars: Episode II - Attack of the Clones</td>\n",
       "      <td>0.798</td>\n",
       "    </tr>\n",
       "    <tr>\n",
       "      <th>539</th>\n",
       "      <td>Гангстер</td>\n",
       "      <td>American Gangster</td>\n",
       "      <td>0.628</td>\n",
       "    </tr>\n",
       "    <tr>\n",
       "      <th>694</th>\n",
       "      <td>Я, робот</td>\n",
       "      <td>I, Robot</td>\n",
       "      <td>0.946</td>\n",
       "    </tr>\n",
       "    <tr>\n",
       "      <th>350</th>\n",
       "      <td>Побег из Шоушенка</td>\n",
       "      <td>The Shawshank Redemption</td>\n",
       "      <td>0.425</td>\n",
       "    </tr>\n",
       "    <tr>\n",
       "      <th>174</th>\n",
       "      <td>Дорога перемен</td>\n",
       "      <td>Revolutionary Road</td>\n",
       "      <td>0.717</td>\n",
       "    </tr>\n",
       "    <tr>\n",
       "      <th>81</th>\n",
       "      <td>Пылающее море</td>\n",
       "      <td>Nordsjøen</td>\n",
       "      <td>0.431</td>\n",
       "    </tr>\n",
       "    <tr>\n",
       "      <th>355</th>\n",
       "      <td>Однажды в Америке</td>\n",
       "      <td>Once Upon a Time in America</td>\n",
       "      <td>0.856</td>\n",
       "    </tr>\n",
       "    <tr>\n",
       "      <th>424</th>\n",
       "      <td>Хороший год</td>\n",
       "      <td>A Good Year</td>\n",
       "      <td>0.927</td>\n",
       "    </tr>\n",
       "    <tr>\n",
       "      <th>523</th>\n",
       "      <td>Аватар</td>\n",
       "      <td>Avatar</td>\n",
       "      <td>0.879</td>\n",
       "    </tr>\n",
       "    <tr>\n",
       "      <th>617</th>\n",
       "      <td>Список Шиндлера</td>\n",
       "      <td>Schindler's List</td>\n",
       "      <td>0.926</td>\n",
       "    </tr>\n",
       "  </tbody>\n",
       "</table>\n",
       "</div>"
      ],
      "text/plain": [
       "                               russian_title  \\\n",
       "609  Звёздные войны: Эпизод 2 — Атака клонов   \n",
       "539                                 Гангстер   \n",
       "694                                 Я, робот   \n",
       "350                        Побег из Шоушенка   \n",
       "174                           Дорога перемен   \n",
       "81                             Пылающее море   \n",
       "355                        Однажды в Америке   \n",
       "424                              Хороший год   \n",
       "523                                   Аватар   \n",
       "617                          Список Шиндлера   \n",
       "\n",
       "                                   original_title  similarity  \n",
       "609  Star Wars: Episode II - Attack of the Clones       0.798  \n",
       "539                             American Gangster       0.628  \n",
       "694                                      I, Robot       0.946  \n",
       "350                      The Shawshank Redemption       0.425  \n",
       "174                            Revolutionary Road       0.717  \n",
       "81                                      Nordsjøen       0.431  \n",
       "355                   Once Upon a Time in America       0.856  \n",
       "424                                   A Good Year       0.927  \n",
       "523                                        Avatar       0.879  \n",
       "617                              Schindler's List       0.926  "
      ]
     },
     "metadata": {},
     "output_type": "display_data"
    },
    {
     "name": "stdout",
     "output_type": "stream",
     "text": [
      "\n",
      "\n",
      "paraphrase-multilingual-MiniLM-L12-v2\n"
     ]
    },
    {
     "data": {
      "text/html": [
       "<div>\n",
       "<style scoped>\n",
       "    .dataframe tbody tr th:only-of-type {\n",
       "        vertical-align: middle;\n",
       "    }\n",
       "\n",
       "    .dataframe tbody tr th {\n",
       "        vertical-align: top;\n",
       "    }\n",
       "\n",
       "    .dataframe thead th {\n",
       "        text-align: right;\n",
       "    }\n",
       "</style>\n",
       "<table border=\"1\" class=\"dataframe\">\n",
       "  <thead>\n",
       "    <tr style=\"text-align: right;\">\n",
       "      <th></th>\n",
       "      <th>russian_title</th>\n",
       "      <th>original_title</th>\n",
       "      <th>similarity</th>\n",
       "    </tr>\n",
       "  </thead>\n",
       "  <tbody>\n",
       "    <tr>\n",
       "      <th>609</th>\n",
       "      <td>Звёздные войны: Эпизод 2 — Атака клонов</td>\n",
       "      <td>Star Wars: Episode II - Attack of the Clones</td>\n",
       "      <td>0.954</td>\n",
       "    </tr>\n",
       "    <tr>\n",
       "      <th>539</th>\n",
       "      <td>Гангстер</td>\n",
       "      <td>American Gangster</td>\n",
       "      <td>0.853</td>\n",
       "    </tr>\n",
       "    <tr>\n",
       "      <th>694</th>\n",
       "      <td>Я, робот</td>\n",
       "      <td>I, Robot</td>\n",
       "      <td>0.912</td>\n",
       "    </tr>\n",
       "    <tr>\n",
       "      <th>350</th>\n",
       "      <td>Побег из Шоушенка</td>\n",
       "      <td>The Shawshank Redemption</td>\n",
       "      <td>0.367</td>\n",
       "    </tr>\n",
       "    <tr>\n",
       "      <th>174</th>\n",
       "      <td>Дорога перемен</td>\n",
       "      <td>Revolutionary Road</td>\n",
       "      <td>0.632</td>\n",
       "    </tr>\n",
       "    <tr>\n",
       "      <th>81</th>\n",
       "      <td>Пылающее море</td>\n",
       "      <td>Nordsjøen</td>\n",
       "      <td>0.734</td>\n",
       "    </tr>\n",
       "    <tr>\n",
       "      <th>355</th>\n",
       "      <td>Однажды в Америке</td>\n",
       "      <td>Once Upon a Time in America</td>\n",
       "      <td>0.888</td>\n",
       "    </tr>\n",
       "    <tr>\n",
       "      <th>424</th>\n",
       "      <td>Хороший год</td>\n",
       "      <td>A Good Year</td>\n",
       "      <td>0.973</td>\n",
       "    </tr>\n",
       "    <tr>\n",
       "      <th>523</th>\n",
       "      <td>Аватар</td>\n",
       "      <td>Avatar</td>\n",
       "      <td>0.958</td>\n",
       "    </tr>\n",
       "    <tr>\n",
       "      <th>617</th>\n",
       "      <td>Список Шиндлера</td>\n",
       "      <td>Schindler's List</td>\n",
       "      <td>0.701</td>\n",
       "    </tr>\n",
       "  </tbody>\n",
       "</table>\n",
       "</div>"
      ],
      "text/plain": [
       "                               russian_title  \\\n",
       "609  Звёздные войны: Эпизод 2 — Атака клонов   \n",
       "539                                 Гангстер   \n",
       "694                                 Я, робот   \n",
       "350                        Побег из Шоушенка   \n",
       "174                           Дорога перемен   \n",
       "81                             Пылающее море   \n",
       "355                        Однажды в Америке   \n",
       "424                              Хороший год   \n",
       "523                                   Аватар   \n",
       "617                          Список Шиндлера   \n",
       "\n",
       "                                   original_title  similarity  \n",
       "609  Star Wars: Episode II - Attack of the Clones       0.954  \n",
       "539                             American Gangster       0.853  \n",
       "694                                      I, Robot       0.912  \n",
       "350                      The Shawshank Redemption       0.367  \n",
       "174                            Revolutionary Road       0.632  \n",
       "81                                      Nordsjøen       0.734  \n",
       "355                   Once Upon a Time in America       0.888  \n",
       "424                                   A Good Year       0.973  \n",
       "523                                        Avatar       0.958  \n",
       "617                              Schindler's List       0.701  "
      ]
     },
     "metadata": {},
     "output_type": "display_data"
    },
    {
     "name": "stdout",
     "output_type": "stream",
     "text": [
      "\n",
      "\n",
      "paraphrase-multilingual-mpnet-base-v2\n"
     ]
    },
    {
     "data": {
      "text/html": [
       "<div>\n",
       "<style scoped>\n",
       "    .dataframe tbody tr th:only-of-type {\n",
       "        vertical-align: middle;\n",
       "    }\n",
       "\n",
       "    .dataframe tbody tr th {\n",
       "        vertical-align: top;\n",
       "    }\n",
       "\n",
       "    .dataframe thead th {\n",
       "        text-align: right;\n",
       "    }\n",
       "</style>\n",
       "<table border=\"1\" class=\"dataframe\">\n",
       "  <thead>\n",
       "    <tr style=\"text-align: right;\">\n",
       "      <th></th>\n",
       "      <th>russian_title</th>\n",
       "      <th>original_title</th>\n",
       "      <th>similarity</th>\n",
       "    </tr>\n",
       "  </thead>\n",
       "  <tbody>\n",
       "    <tr>\n",
       "      <th>609</th>\n",
       "      <td>Звёздные войны: Эпизод 2 — Атака клонов</td>\n",
       "      <td>Star Wars: Episode II - Attack of the Clones</td>\n",
       "      <td>0.950</td>\n",
       "    </tr>\n",
       "    <tr>\n",
       "      <th>539</th>\n",
       "      <td>Гангстер</td>\n",
       "      <td>American Gangster</td>\n",
       "      <td>0.830</td>\n",
       "    </tr>\n",
       "    <tr>\n",
       "      <th>694</th>\n",
       "      <td>Я, робот</td>\n",
       "      <td>I, Robot</td>\n",
       "      <td>0.894</td>\n",
       "    </tr>\n",
       "    <tr>\n",
       "      <th>350</th>\n",
       "      <td>Побег из Шоушенка</td>\n",
       "      <td>The Shawshank Redemption</td>\n",
       "      <td>0.547</td>\n",
       "    </tr>\n",
       "    <tr>\n",
       "      <th>174</th>\n",
       "      <td>Дорога перемен</td>\n",
       "      <td>Revolutionary Road</td>\n",
       "      <td>0.665</td>\n",
       "    </tr>\n",
       "    <tr>\n",
       "      <th>81</th>\n",
       "      <td>Пылающее море</td>\n",
       "      <td>Nordsjøen</td>\n",
       "      <td>0.687</td>\n",
       "    </tr>\n",
       "    <tr>\n",
       "      <th>355</th>\n",
       "      <td>Однажды в Америке</td>\n",
       "      <td>Once Upon a Time in America</td>\n",
       "      <td>0.820</td>\n",
       "    </tr>\n",
       "    <tr>\n",
       "      <th>424</th>\n",
       "      <td>Хороший год</td>\n",
       "      <td>A Good Year</td>\n",
       "      <td>0.976</td>\n",
       "    </tr>\n",
       "    <tr>\n",
       "      <th>523</th>\n",
       "      <td>Аватар</td>\n",
       "      <td>Avatar</td>\n",
       "      <td>0.934</td>\n",
       "    </tr>\n",
       "    <tr>\n",
       "      <th>617</th>\n",
       "      <td>Список Шиндлера</td>\n",
       "      <td>Schindler's List</td>\n",
       "      <td>0.724</td>\n",
       "    </tr>\n",
       "  </tbody>\n",
       "</table>\n",
       "</div>"
      ],
      "text/plain": [
       "                               russian_title  \\\n",
       "609  Звёздные войны: Эпизод 2 — Атака клонов   \n",
       "539                                 Гангстер   \n",
       "694                                 Я, робот   \n",
       "350                        Побег из Шоушенка   \n",
       "174                           Дорога перемен   \n",
       "81                             Пылающее море   \n",
       "355                        Однажды в Америке   \n",
       "424                              Хороший год   \n",
       "523                                   Аватар   \n",
       "617                          Список Шиндлера   \n",
       "\n",
       "                                   original_title  similarity  \n",
       "609  Star Wars: Episode II - Attack of the Clones       0.950  \n",
       "539                             American Gangster       0.830  \n",
       "694                                      I, Robot       0.894  \n",
       "350                      The Shawshank Redemption       0.547  \n",
       "174                            Revolutionary Road       0.665  \n",
       "81                                      Nordsjøen       0.687  \n",
       "355                   Once Upon a Time in America       0.820  \n",
       "424                                   A Good Year       0.976  \n",
       "523                                        Avatar       0.934  \n",
       "617                              Schindler's List       0.724  "
      ]
     },
     "metadata": {},
     "output_type": "display_data"
    },
    {
     "name": "stdout",
     "output_type": "stream",
     "text": [
      "\n",
      "\n",
      "LaBSE\n"
     ]
    },
    {
     "data": {
      "text/html": [
       "<div>\n",
       "<style scoped>\n",
       "    .dataframe tbody tr th:only-of-type {\n",
       "        vertical-align: middle;\n",
       "    }\n",
       "\n",
       "    .dataframe tbody tr th {\n",
       "        vertical-align: top;\n",
       "    }\n",
       "\n",
       "    .dataframe thead th {\n",
       "        text-align: right;\n",
       "    }\n",
       "</style>\n",
       "<table border=\"1\" class=\"dataframe\">\n",
       "  <thead>\n",
       "    <tr style=\"text-align: right;\">\n",
       "      <th></th>\n",
       "      <th>russian_title</th>\n",
       "      <th>original_title</th>\n",
       "      <th>similarity</th>\n",
       "    </tr>\n",
       "  </thead>\n",
       "  <tbody>\n",
       "    <tr>\n",
       "      <th>609</th>\n",
       "      <td>Звёздные войны: Эпизод 2 — Атака клонов</td>\n",
       "      <td>Star Wars: Episode II - Attack of the Clones</td>\n",
       "      <td>0.892</td>\n",
       "    </tr>\n",
       "    <tr>\n",
       "      <th>539</th>\n",
       "      <td>Гангстер</td>\n",
       "      <td>American Gangster</td>\n",
       "      <td>0.669</td>\n",
       "    </tr>\n",
       "    <tr>\n",
       "      <th>694</th>\n",
       "      <td>Я, робот</td>\n",
       "      <td>I, Robot</td>\n",
       "      <td>0.940</td>\n",
       "    </tr>\n",
       "    <tr>\n",
       "      <th>350</th>\n",
       "      <td>Побег из Шоушенка</td>\n",
       "      <td>The Shawshank Redemption</td>\n",
       "      <td>0.483</td>\n",
       "    </tr>\n",
       "    <tr>\n",
       "      <th>174</th>\n",
       "      <td>Дорога перемен</td>\n",
       "      <td>Revolutionary Road</td>\n",
       "      <td>0.685</td>\n",
       "    </tr>\n",
       "    <tr>\n",
       "      <th>81</th>\n",
       "      <td>Пылающее море</td>\n",
       "      <td>Nordsjøen</td>\n",
       "      <td>0.617</td>\n",
       "    </tr>\n",
       "    <tr>\n",
       "      <th>355</th>\n",
       "      <td>Однажды в Америке</td>\n",
       "      <td>Once Upon a Time in America</td>\n",
       "      <td>0.950</td>\n",
       "    </tr>\n",
       "    <tr>\n",
       "      <th>424</th>\n",
       "      <td>Хороший год</td>\n",
       "      <td>A Good Year</td>\n",
       "      <td>0.968</td>\n",
       "    </tr>\n",
       "    <tr>\n",
       "      <th>523</th>\n",
       "      <td>Аватар</td>\n",
       "      <td>Avatar</td>\n",
       "      <td>0.938</td>\n",
       "    </tr>\n",
       "    <tr>\n",
       "      <th>617</th>\n",
       "      <td>Список Шиндлера</td>\n",
       "      <td>Schindler's List</td>\n",
       "      <td>0.863</td>\n",
       "    </tr>\n",
       "  </tbody>\n",
       "</table>\n",
       "</div>"
      ],
      "text/plain": [
       "                               russian_title  \\\n",
       "609  Звёздные войны: Эпизод 2 — Атака клонов   \n",
       "539                                 Гангстер   \n",
       "694                                 Я, робот   \n",
       "350                        Побег из Шоушенка   \n",
       "174                           Дорога перемен   \n",
       "81                             Пылающее море   \n",
       "355                        Однажды в Америке   \n",
       "424                              Хороший год   \n",
       "523                                   Аватар   \n",
       "617                          Список Шиндлера   \n",
       "\n",
       "                                   original_title  similarity  \n",
       "609  Star Wars: Episode II - Attack of the Clones       0.892  \n",
       "539                             American Gangster       0.669  \n",
       "694                                      I, Robot       0.940  \n",
       "350                      The Shawshank Redemption       0.483  \n",
       "174                            Revolutionary Road       0.685  \n",
       "81                                      Nordsjøen       0.617  \n",
       "355                   Once Upon a Time in America       0.950  \n",
       "424                                   A Good Year       0.968  \n",
       "523                                        Avatar       0.938  \n",
       "617                              Schindler's List       0.863  "
      ]
     },
     "metadata": {},
     "output_type": "display_data"
    },
    {
     "name": "stdout",
     "output_type": "stream",
     "text": [
      "\n",
      "\n"
     ]
    }
   ],
   "source": [
    "similarities = {}\n",
    "for model_name, model in models.items():\n",
    "    similarity_df = get_similarity_dataframe(model, russian_titles, original_titles)\n",
    "    similarities[model_name] = similarity_df[\"similarity\"]\n",
    "\n",
    "    print(model_name)\n",
    "\n",
    "    with pd.option_context(\"display.max_rows\", None, \"display.max_columns\", None):\n",
    "        display(similarity_df.sample(10, random_state=SEED))\n",
    "\n",
    "    print(\"\\n\")\n"
   ]
  },
  {
   "cell_type": "markdown",
   "id": "0e176070-94e8-49eb-9923-789abff9dd75",
   "metadata": {},
   "source": [
    "They seem to work fine, but their results vary. "
   ]
  },
  {
   "cell_type": "markdown",
   "id": "a5ae34ff-2ef3-4a3e-8459-aec2cbde6188",
   "metadata": {},
   "source": [
    "### Calculating single similarity score"
   ]
  },
  {
   "cell_type": "markdown",
   "id": "1755c473-a5ab-4ef4-a871-f286b8d31fec",
   "metadata": {},
   "source": [
    "What if we calculate median similarity between all the models.  \n",
    "Can this approach give us better overall performance?"
   ]
  },
  {
   "cell_type": "code",
   "execution_count": 31,
   "id": "6336a470-58d3-405e-83ec-44d6c0791821",
   "metadata": {},
   "outputs": [],
   "source": [
    "similarity_df.drop(\"similarity\", axis=1, inplace=True, errors=\"ignore\")\n",
    "\n",
    "for model_name, similarity_col in similarities.items():\n",
    "    similarity_df[model_name] = similarity_col\n",
    "\n",
    "similarity_df.insert(2, \"median_sim\", similarity_df[similarities.keys()].median(axis=1))"
   ]
  },
  {
   "cell_type": "markdown",
   "id": "24452595-a958-4c4e-8c93-4d441f3af101",
   "metadata": {},
   "source": [
    "## Results"
   ]
  },
  {
   "cell_type": "markdown",
   "id": "874084f6-11ae-465a-9c58-0d6d6001e4a7",
   "metadata": {},
   "source": [
    "### Title similarity"
   ]
  },
  {
   "cell_type": "code",
   "execution_count": 32,
   "id": "2ce4b845-2ea4-457f-8f85-a14bbf757ce2",
   "metadata": {},
   "outputs": [
    {
     "name": "stderr",
     "output_type": "stream",
     "text": [
      "/tmp/ipykernel_34997/592483295.py:8: UserWarning: Ignoring `palette` because no `hue` variable has been assigned.\n",
      "  sns.kdeplot(\n"
     ]
    },
    {
     "data": {
      "image/png": "[encoded data removed]",
      "text/plain": [
       "<Figure size 1200x600 with 2 Axes>"
      ]
     },
     "metadata": {
      "image/png": {
       "height": 509,
       "width": 1009
      }
     },
     "output_type": "display_data"
    }
   ],
   "source": [
    "similarities = similarity_df[\"median_sim\"].values\n",
    "\n",
    "f, (ax_box, ax_hist) = plt.subplots(\n",
    "    2, sharex=True, gridspec_kw={\"height_ratios\": (0.20, 0.80)}, figsize=(12, 6)\n",
    ")\n",
    "\n",
    "sns.boxplot(x=similarities, ax=ax_box)\n",
    "sns.kdeplot(\n",
    "    x=similarities,\n",
    "    ax=ax_hist,\n",
    "    fill=True,\n",
    "    common_norm=False,\n",
    "    palette=\"crest\",\n",
    "    alpha=0.5,\n",
    "    linewidth=0,\n",
    ")\n",
    "\n",
    "ax_box.set(yticks=[])\n",
    "ax_hist.set(title=\"Title Similarity Distribution\")\n",
    "\n",
    "sns.despine(ax=ax_hist)\n",
    "sns.despine(ax=ax_box, left=True)"
   ]
  },
  {
   "cell_type": "code",
   "execution_count": 33,
   "id": "1e6d5871-4ffc-49ae-8918-f1c7db1d5b56",
   "metadata": {},
   "outputs": [
    {
     "data": {
      "text/plain": [
       "count    744.00\n",
       "mean       0.73\n",
       "std        0.20\n",
       "min        0.14\n",
       "25%        0.61\n",
       "50%        0.78\n",
       "75%        0.89\n",
       "max        1.00\n",
       "Name: median_sim, dtype: float64"
      ]
     },
     "execution_count": 33,
     "metadata": {},
     "output_type": "execute_result"
    }
   ],
   "source": [
    "similarity_df[\"median_sim\"].describe().round(2)"
   ]
  },
  {
   "cell_type": "markdown",
   "id": "6965940f-4688-4657-81df-63f763ce2ffe",
   "metadata": {},
   "source": [
    "We can see that the title similarity distribution skewed left. And it answers our first question."
   ]
  },
  {
   "cell_type": "markdown",
   "id": "73de9c9a-32f5-4d2e-84dc-9294b75fc916",
   "metadata": {},
   "source": [
    "### Dissimilar titles"
   ]
  },
  {
   "cell_type": "markdown",
   "id": "81aa56c6-9361-484e-a0c4-0e0e782c70ba",
   "metadata": {},
   "source": [
    "Let's look at titles for which Russian translations doesn't convey meaning of the original name. "
   ]
  },
  {
   "cell_type": "code",
   "execution_count": 34,
   "id": "a12bf472-cc45-4016-8c22-564c6090ae30",
   "metadata": {},
   "outputs": [
    {
     "data": {
      "text/html": [
       "<div>\n",
       "<style scoped>\n",
       "    .dataframe tbody tr th:only-of-type {\n",
       "        vertical-align: middle;\n",
       "    }\n",
       "\n",
       "    .dataframe tbody tr th {\n",
       "        vertical-align: top;\n",
       "    }\n",
       "\n",
       "    .dataframe thead th {\n",
       "        text-align: right;\n",
       "    }\n",
       "</style>\n",
       "<table border=\"1\" class=\"dataframe\">\n",
       "  <thead>\n",
       "    <tr style=\"text-align: right;\">\n",
       "      <th></th>\n",
       "      <th>russian_title</th>\n",
       "      <th>original_title</th>\n",
       "      <th>median_sim</th>\n",
       "    </tr>\n",
       "  </thead>\n",
       "  <tbody>\n",
       "    <tr>\n",
       "      <th>119</th>\n",
       "      <td>Одинокий волк</td>\n",
       "      <td>Clean</td>\n",
       "      <td>0.144</td>\n",
       "    </tr>\n",
       "    <tr>\n",
       "      <th>370</th>\n",
       "      <td>Человек, который изменил всё</td>\n",
       "      <td>Moneyball</td>\n",
       "      <td>0.157</td>\n",
       "    </tr>\n",
       "    <tr>\n",
       "      <th>3</th>\n",
       "      <td>Борат</td>\n",
       "      <td>Borat: Cultural Learnings of America for Make ...</td>\n",
       "      <td>0.172</td>\n",
       "    </tr>\n",
       "    <tr>\n",
       "      <th>572</th>\n",
       "      <td>Однажды в Ирландии</td>\n",
       "      <td>The Guard</td>\n",
       "      <td>0.182</td>\n",
       "    </tr>\n",
       "    <tr>\n",
       "      <th>437</th>\n",
       "      <td>Философы: Урок выживания</td>\n",
       "      <td>After the Dark</td>\n",
       "      <td>0.188</td>\n",
       "    </tr>\n",
       "    <tr>\n",
       "      <th>541</th>\n",
       "      <td>Самый пьяный округ в мире</td>\n",
       "      <td>Lawless</td>\n",
       "      <td>0.189</td>\n",
       "    </tr>\n",
       "    <tr>\n",
       "      <th>484</th>\n",
       "      <td>По соображениям совести</td>\n",
       "      <td>Hacksaw Ridge</td>\n",
       "      <td>0.192</td>\n",
       "    </tr>\n",
       "    <tr>\n",
       "      <th>54</th>\n",
       "      <td>И грянул шторм</td>\n",
       "      <td>The Finest Hours</td>\n",
       "      <td>0.214</td>\n",
       "    </tr>\n",
       "    <tr>\n",
       "      <th>660</th>\n",
       "      <td>Монстры на каникулах</td>\n",
       "      <td>Hotel Transylvania</td>\n",
       "      <td>0.220</td>\n",
       "    </tr>\n",
       "    <tr>\n",
       "      <th>418</th>\n",
       "      <td>Ведьма</td>\n",
       "      <td>The VVitch: A New-England Folktale</td>\n",
       "      <td>0.220</td>\n",
       "    </tr>\n",
       "    <tr>\n",
       "      <th>235</th>\n",
       "      <td>Невероятный мир глазами Энцо</td>\n",
       "      <td>The Art of Racing in the Rain</td>\n",
       "      <td>0.229</td>\n",
       "    </tr>\n",
       "    <tr>\n",
       "      <th>238</th>\n",
       "      <td>Нефть</td>\n",
       "      <td>There Will Be Blood</td>\n",
       "      <td>0.229</td>\n",
       "    </tr>\n",
       "    <tr>\n",
       "      <th>589</th>\n",
       "      <td>Мальчишник в Вегасе</td>\n",
       "      <td>The Hangover</td>\n",
       "      <td>0.231</td>\n",
       "    </tr>\n",
       "    <tr>\n",
       "      <th>239</th>\n",
       "      <td>День курка</td>\n",
       "      <td>Boss Level</td>\n",
       "      <td>0.234</td>\n",
       "    </tr>\n",
       "    <tr>\n",
       "      <th>407</th>\n",
       "      <td>1+1</td>\n",
       "      <td>Intouchables</td>\n",
       "      <td>0.235</td>\n",
       "    </tr>\n",
       "    <tr>\n",
       "      <th>231</th>\n",
       "      <td>Убойные каникулы</td>\n",
       "      <td>Tucker and Dale vs Evil</td>\n",
       "      <td>0.236</td>\n",
       "    </tr>\n",
       "    <tr>\n",
       "      <th>715</th>\n",
       "      <td>Бриллиантовый полицейский</td>\n",
       "      <td>Blue Streak</td>\n",
       "      <td>0.237</td>\n",
       "    </tr>\n",
       "    <tr>\n",
       "      <th>404</th>\n",
       "      <td>Веном 2</td>\n",
       "      <td>Venom: Let There Be Carnage</td>\n",
       "      <td>0.240</td>\n",
       "    </tr>\n",
       "    <tr>\n",
       "      <th>700</th>\n",
       "      <td>Гарри Хафт: Последний бой</td>\n",
       "      <td>The Survivor</td>\n",
       "      <td>0.241</td>\n",
       "    </tr>\n",
       "    <tr>\n",
       "      <th>345</th>\n",
       "      <td>Монстро</td>\n",
       "      <td>Cloverfield</td>\n",
       "      <td>0.244</td>\n",
       "    </tr>\n",
       "    <tr>\n",
       "      <th>264</th>\n",
       "      <td>Иллюзия обмана</td>\n",
       "      <td>Now You See Me</td>\n",
       "      <td>0.252</td>\n",
       "    </tr>\n",
       "    <tr>\n",
       "      <th>108</th>\n",
       "      <td>Плутовство</td>\n",
       "      <td>Wag the Dog</td>\n",
       "      <td>0.257</td>\n",
       "    </tr>\n",
       "    <tr>\n",
       "      <th>363</th>\n",
       "      <td>Заклятье: Спуск к дьяволу</td>\n",
       "      <td>The Cellar</td>\n",
       "      <td>0.262</td>\n",
       "    </tr>\n",
       "    <tr>\n",
       "      <th>517</th>\n",
       "      <td>Аферистка</td>\n",
       "      <td>I Care a Lot</td>\n",
       "      <td>0.273</td>\n",
       "    </tr>\n",
       "    <tr>\n",
       "      <th>386</th>\n",
       "      <td>Области тьмы</td>\n",
       "      <td>Limitless</td>\n",
       "      <td>0.275</td>\n",
       "    </tr>\n",
       "    <tr>\n",
       "      <th>697</th>\n",
       "      <td>Во всё тяжкое</td>\n",
       "      <td>The Professor</td>\n",
       "      <td>0.278</td>\n",
       "    </tr>\n",
       "    <tr>\n",
       "      <th>45</th>\n",
       "      <td>Девушка брата</td>\n",
       "      <td>Stella's Last Weekend</td>\n",
       "      <td>0.278</td>\n",
       "    </tr>\n",
       "    <tr>\n",
       "      <th>401</th>\n",
       "      <td>Кошачьи миры Луиса Уэйна</td>\n",
       "      <td>The Electrical Life of Louis Wain</td>\n",
       "      <td>0.281</td>\n",
       "    </tr>\n",
       "    <tr>\n",
       "      <th>289</th>\n",
       "      <td>Кто там</td>\n",
       "      <td>Knock Knock</td>\n",
       "      <td>0.281</td>\n",
       "    </tr>\n",
       "    <tr>\n",
       "      <th>566</th>\n",
       "      <td>Полынь: Дорога мёртвых</td>\n",
       "      <td>Wyrmwood</td>\n",
       "      <td>0.282</td>\n",
       "    </tr>\n",
       "    <tr>\n",
       "      <th>356</th>\n",
       "      <td>По наклонной</td>\n",
       "      <td>Cherry</td>\n",
       "      <td>0.286</td>\n",
       "    </tr>\n",
       "    <tr>\n",
       "      <th>565</th>\n",
       "      <td>Парни под прикрытием</td>\n",
       "      <td>Panama</td>\n",
       "      <td>0.292</td>\n",
       "    </tr>\n",
       "    <tr>\n",
       "      <th>242</th>\n",
       "      <td>Флирт с дьяволом</td>\n",
       "      <td>Shattered</td>\n",
       "      <td>0.295</td>\n",
       "    </tr>\n",
       "    <tr>\n",
       "      <th>680</th>\n",
       "      <td>Обитель теней</td>\n",
       "      <td>Marrowbone</td>\n",
       "      <td>0.302</td>\n",
       "    </tr>\n",
       "    <tr>\n",
       "      <th>295</th>\n",
       "      <td>Рапунцель: Запутанная история</td>\n",
       "      <td>Tangled</td>\n",
       "      <td>0.302</td>\n",
       "    </tr>\n",
       "    <tr>\n",
       "      <th>267</th>\n",
       "      <td>Дьявол в деталях</td>\n",
       "      <td>The Little Things</td>\n",
       "      <td>0.307</td>\n",
       "    </tr>\n",
       "    <tr>\n",
       "      <th>506</th>\n",
       "      <td>Пол: Секретный материальчик</td>\n",
       "      <td>Paul</td>\n",
       "      <td>0.308</td>\n",
       "    </tr>\n",
       "    <tr>\n",
       "      <th>306</th>\n",
       "      <td>На игле</td>\n",
       "      <td>Trainspotting</td>\n",
       "      <td>0.319</td>\n",
       "    </tr>\n",
       "    <tr>\n",
       "      <th>250</th>\n",
       "      <td>Исчезнувший</td>\n",
       "      <td>My Son</td>\n",
       "      <td>0.329</td>\n",
       "    </tr>\n",
       "    <tr>\n",
       "      <th>380</th>\n",
       "      <td>Лулу и Бриггс</td>\n",
       "      <td>Dog</td>\n",
       "      <td>0.329</td>\n",
       "    </tr>\n",
       "    <tr>\n",
       "      <th>620</th>\n",
       "      <td>Повелитель бури</td>\n",
       "      <td>The Hurt Locker</td>\n",
       "      <td>0.332</td>\n",
       "    </tr>\n",
       "    <tr>\n",
       "      <th>581</th>\n",
       "      <td>Таинственный лес</td>\n",
       "      <td>The Village</td>\n",
       "      <td>0.334</td>\n",
       "    </tr>\n",
       "    <tr>\n",
       "      <th>311</th>\n",
       "      <td>Головоломка</td>\n",
       "      <td>Inside Out</td>\n",
       "      <td>0.335</td>\n",
       "    </tr>\n",
       "    <tr>\n",
       "      <th>14</th>\n",
       "      <td>Реальные упыри</td>\n",
       "      <td>What We Do in the Shadows</td>\n",
       "      <td>0.336</td>\n",
       "    </tr>\n",
       "    <tr>\n",
       "      <th>282</th>\n",
       "      <td>Вальдо</td>\n",
       "      <td>Last Looks</td>\n",
       "      <td>0.338</td>\n",
       "    </tr>\n",
       "    <tr>\n",
       "      <th>550</th>\n",
       "      <td>Бёрдмэн</td>\n",
       "      <td>Birdman or (The Unexpected Virtue of Ignorance)</td>\n",
       "      <td>0.340</td>\n",
       "    </tr>\n",
       "    <tr>\n",
       "      <th>147</th>\n",
       "      <td>Андердог</td>\n",
       "      <td>Sommeren '92</td>\n",
       "      <td>0.343</td>\n",
       "    </tr>\n",
       "    <tr>\n",
       "      <th>118</th>\n",
       "      <td>Бойфренд из будущего</td>\n",
       "      <td>About Time</td>\n",
       "      <td>0.345</td>\n",
       "    </tr>\n",
       "    <tr>\n",
       "      <th>460</th>\n",
       "      <td>Амели</td>\n",
       "      <td>Le Fabuleux destin d'Amélie Poulain</td>\n",
       "      <td>0.348</td>\n",
       "    </tr>\n",
       "    <tr>\n",
       "      <th>419</th>\n",
       "      <td>Клаустрофобы</td>\n",
       "      <td>Escape Room</td>\n",
       "      <td>0.349</td>\n",
       "    </tr>\n",
       "  </tbody>\n",
       "</table>\n",
       "</div>"
      ],
      "text/plain": [
       "                     russian_title  \\\n",
       "119                  Одинокий волк   \n",
       "370   Человек, который изменил всё   \n",
       "3                            Борат   \n",
       "572             Однажды в Ирландии   \n",
       "437       Философы: Урок выживания   \n",
       "541      Самый пьяный округ в мире   \n",
       "484        По соображениям совести   \n",
       "54                  И грянул шторм   \n",
       "660           Монстры на каникулах   \n",
       "418                         Ведьма   \n",
       "235   Невероятный мир глазами Энцо   \n",
       "238                          Нефть   \n",
       "589            Мальчишник в Вегасе   \n",
       "239                     День курка   \n",
       "407                            1+1   \n",
       "231               Убойные каникулы   \n",
       "715      Бриллиантовый полицейский   \n",
       "404                        Веном 2   \n",
       "700      Гарри Хафт: Последний бой   \n",
       "345                        Монстро   \n",
       "264                 Иллюзия обмана   \n",
       "108                     Плутовство   \n",
       "363      Заклятье: Спуск к дьяволу   \n",
       "517                      Аферистка   \n",
       "386                   Области тьмы   \n",
       "697                  Во всё тяжкое   \n",
       "45                   Девушка брата   \n",
       "401       Кошачьи миры Луиса Уэйна   \n",
       "289                        Кто там   \n",
       "566         Полынь: Дорога мёртвых   \n",
       "356                   По наклонной   \n",
       "565           Парни под прикрытием   \n",
       "242               Флирт с дьяволом   \n",
       "680                  Обитель теней   \n",
       "295  Рапунцель: Запутанная история   \n",
       "267               Дьявол в деталях   \n",
       "506    Пол: Секретный материальчик   \n",
       "306                        На игле   \n",
       "250                    Исчезнувший   \n",
       "380                  Лулу и Бриггс   \n",
       "620                Повелитель бури   \n",
       "581               Таинственный лес   \n",
       "311                    Головоломка   \n",
       "14                  Реальные упыри   \n",
       "282                         Вальдо   \n",
       "550                        Бёрдмэн   \n",
       "147                       Андердог   \n",
       "118           Бойфренд из будущего   \n",
       "460                          Амели   \n",
       "419                   Клаустрофобы   \n",
       "\n",
       "                                        original_title  median_sim  \n",
       "119                                              Clean       0.144  \n",
       "370                                          Moneyball       0.157  \n",
       "3    Borat: Cultural Learnings of America for Make ...       0.172  \n",
       "572                                          The Guard       0.182  \n",
       "437                                     After the Dark       0.188  \n",
       "541                                            Lawless       0.189  \n",
       "484                                      Hacksaw Ridge       0.192  \n",
       "54                                    The Finest Hours       0.214  \n",
       "660                                 Hotel Transylvania       0.220  \n",
       "418                 The VVitch: A New-England Folktale       0.220  \n",
       "235                      The Art of Racing in the Rain       0.229  \n",
       "238                                There Will Be Blood       0.229  \n",
       "589                                       The Hangover       0.231  \n",
       "239                                         Boss Level       0.234  \n",
       "407                                       Intouchables       0.235  \n",
       "231                            Tucker and Dale vs Evil       0.236  \n",
       "715                                        Blue Streak       0.237  \n",
       "404                        Venom: Let There Be Carnage       0.240  \n",
       "700                                       The Survivor       0.241  \n",
       "345                                        Cloverfield       0.244  \n",
       "264                                     Now You See Me       0.252  \n",
       "108                                        Wag the Dog       0.257  \n",
       "363                                         The Cellar       0.262  \n",
       "517                                       I Care a Lot       0.273  \n",
       "386                                          Limitless       0.275  \n",
       "697                                      The Professor       0.278  \n",
       "45                               Stella's Last Weekend       0.278  \n",
       "401                  The Electrical Life of Louis Wain       0.281  \n",
       "289                                        Knock Knock       0.281  \n",
       "566                                           Wyrmwood       0.282  \n",
       "356                                             Cherry       0.286  \n",
       "565                                             Panama       0.292  \n",
       "242                                          Shattered       0.295  \n",
       "680                                         Marrowbone       0.302  \n",
       "295                                            Tangled       0.302  \n",
       "267                                  The Little Things       0.307  \n",
       "506                                               Paul       0.308  \n",
       "306                                      Trainspotting       0.319  \n",
       "250                                             My Son       0.329  \n",
       "380                                                Dog       0.329  \n",
       "620                                    The Hurt Locker       0.332  \n",
       "581                                        The Village       0.334  \n",
       "311                                         Inside Out       0.335  \n",
       "14                           What We Do in the Shadows       0.336  \n",
       "282                                         Last Looks       0.338  \n",
       "550    Birdman or (The Unexpected Virtue of Ignorance)       0.340  \n",
       "147                                       Sommeren '92       0.343  \n",
       "118                                         About Time       0.345  \n",
       "460                Le Fabuleux destin d'Amélie Poulain       0.348  \n",
       "419                                        Escape Room       0.349  "
      ]
     },
     "metadata": {},
     "output_type": "display_data"
    }
   ],
   "source": [
    "with pd.option_context(\"display.max_rows\", None, \"display.max_columns\", None):\n",
    "    display(\n",
    "        similarity_df.iloc[:, :3].sort_values(by=\"median_sim\", ascending=True).iloc[:50]\n",
    "    )"
   ]
  },
  {
   "cell_type": "markdown",
   "id": "31835067-b54c-4f02-ab34-d3561254113c",
   "metadata": {},
   "source": [
    "There are a few cases for dissimilarity:  \n",
    "\n",
    "**Russian title is a cropped version of original title**  \n",
    "Another problem in this case can be the fact that embeddings don't work very well with proper names like Borat::Борат, Dolittle::Дулиттл, and so on.  \n",
    "Examples:\n",
    "* Борат::Borat: Cultural Learnings of America for Make Benefit Glorious Nation of Kazakhstan\n",
    "* Веном 2::Venom: Let There Be Carnage\n",
    "* Бёрдмэн::Birdman or (The Unexpected Virtue of Ignorance)\n",
    "* Амели::Le Fabuleux destin d'Amélie Poulain\n",
    "\n",
    "**Russian title is an extended version of original title**  \n",
    "(Remark about proper names applies to this case too)  \n",
    "Examples:\n",
    "* Удивительное путешествие доктора Дулиттла::Dolittle\n",
    "* Пол: Секретный материальчик::Paul\n",
    "* Рапунцель: Запутанная история::Tangled\n",
    "\n",
    "**Russian title was localized (made up) by translators/localizers**  \n",
    "Sometimes it is better to localize the title due to cultural and other peculiarities, but sometimes it goes too far.  \n",
    "Examples:\n",
    "* Невероятный мир глазами Энцо::The Art of Racing in the Rain\n",
    "* Человек, который изменил всё::Moneyball\n",
    "* Области тьмы::Limitless\n",
    "* Одинокий волк::Clean\n",
    "\n",
    "And it answers our second question."
   ]
  },
  {
   "cell_type": "markdown",
   "id": "d5c28ae7-4983-43d6-b94a-1f68a663dfb5",
   "metadata": {},
   "source": [
    "### Similar titles"
   ]
  },
  {
   "cell_type": "code",
   "execution_count": 35,
   "id": "973ebbbe-372b-4ddf-85dd-661fc618d6e2",
   "metadata": {},
   "outputs": [
    {
     "data": {
      "text/html": [
       "<div>\n",
       "<style scoped>\n",
       "    .dataframe tbody tr th:only-of-type {\n",
       "        vertical-align: middle;\n",
       "    }\n",
       "\n",
       "    .dataframe tbody tr th {\n",
       "        vertical-align: top;\n",
       "    }\n",
       "\n",
       "    .dataframe thead th {\n",
       "        text-align: right;\n",
       "    }\n",
       "</style>\n",
       "<table border=\"1\" class=\"dataframe\">\n",
       "  <thead>\n",
       "    <tr style=\"text-align: right;\">\n",
       "      <th></th>\n",
       "      <th>russian_title</th>\n",
       "      <th>original_title</th>\n",
       "      <th>median_sim</th>\n",
       "    </tr>\n",
       "  </thead>\n",
       "  <tbody>\n",
       "    <tr>\n",
       "      <th>33</th>\n",
       "      <td>1408</td>\n",
       "      <td>1408</td>\n",
       "      <td>1.000</td>\n",
       "    </tr>\n",
       "    <tr>\n",
       "      <th>690</th>\n",
       "      <td>2012</td>\n",
       "      <td>2012</td>\n",
       "      <td>1.000</td>\n",
       "    </tr>\n",
       "    <tr>\n",
       "      <th>621</th>\n",
       "      <td>X</td>\n",
       "      <td>X</td>\n",
       "      <td>1.000</td>\n",
       "    </tr>\n",
       "    <tr>\n",
       "      <th>207</th>\n",
       "      <td>365 дней</td>\n",
       "      <td>365 dni</td>\n",
       "      <td>0.998</td>\n",
       "    </tr>\n",
       "    <tr>\n",
       "      <th>211</th>\n",
       "      <td>Пожары</td>\n",
       "      <td>Incendies</td>\n",
       "      <td>0.985</td>\n",
       "    </tr>\n",
       "    <tr>\n",
       "      <th>402</th>\n",
       "      <td>Код 8</td>\n",
       "      <td>Code 8</td>\n",
       "      <td>0.981</td>\n",
       "    </tr>\n",
       "    <tr>\n",
       "      <th>253</th>\n",
       "      <td>Мама</td>\n",
       "      <td>Mama</td>\n",
       "      <td>0.980</td>\n",
       "    </tr>\n",
       "    <tr>\n",
       "      <th>538</th>\n",
       "      <td>Братья</td>\n",
       "      <td>Brothers</td>\n",
       "      <td>0.977</td>\n",
       "    </tr>\n",
       "    <tr>\n",
       "      <th>532</th>\n",
       "      <td>Три метра над уровнем неба</td>\n",
       "      <td>Tres metros sobre el cielo</td>\n",
       "      <td>0.972</td>\n",
       "    </tr>\n",
       "    <tr>\n",
       "      <th>727</th>\n",
       "      <td>Преступления будущего</td>\n",
       "      <td>Crimes of the Future</td>\n",
       "      <td>0.971</td>\n",
       "    </tr>\n",
       "    <tr>\n",
       "      <th>601</th>\n",
       "      <td>Общество мертвых поэтов</td>\n",
       "      <td>Dead Poets Society</td>\n",
       "      <td>0.970</td>\n",
       "    </tr>\n",
       "    <tr>\n",
       "      <th>296</th>\n",
       "      <td>Тело</td>\n",
       "      <td>El cuerpo</td>\n",
       "      <td>0.970</td>\n",
       "    </tr>\n",
       "    <tr>\n",
       "      <th>399</th>\n",
       "      <td>мама!</td>\n",
       "      <td>mother!</td>\n",
       "      <td>0.970</td>\n",
       "    </tr>\n",
       "    <tr>\n",
       "      <th>578</th>\n",
       "      <td>Kingsman: Секретная служба</td>\n",
       "      <td>Kingsman: The Secret Service</td>\n",
       "      <td>0.970</td>\n",
       "    </tr>\n",
       "    <tr>\n",
       "      <th>86</th>\n",
       "      <td>Опасный метод</td>\n",
       "      <td>A Dangerous Method</td>\n",
       "      <td>0.969</td>\n",
       "    </tr>\n",
       "  </tbody>\n",
       "</table>\n",
       "</div>"
      ],
      "text/plain": [
       "                  russian_title                original_title  median_sim\n",
       "33                         1408                          1408       1.000\n",
       "690                        2012                          2012       1.000\n",
       "621                           X                             X       1.000\n",
       "207                    365 дней                       365 dni       0.998\n",
       "211                      Пожары                     Incendies       0.985\n",
       "402                       Код 8                        Code 8       0.981\n",
       "253                        Мама                          Mama       0.980\n",
       "538                      Братья                      Brothers       0.977\n",
       "532  Три метра над уровнем неба    Tres metros sobre el cielo       0.972\n",
       "727       Преступления будущего          Crimes of the Future       0.971\n",
       "601     Общество мертвых поэтов            Dead Poets Society       0.970\n",
       "296                        Тело                     El cuerpo       0.970\n",
       "399                       мама!                       mother!       0.970\n",
       "578  Kingsman: Секретная служба  Kingsman: The Secret Service       0.970\n",
       "86                Опасный метод            A Dangerous Method       0.969"
      ]
     },
     "metadata": {},
     "output_type": "display_data"
    }
   ],
   "source": [
    "with pd.option_context(\"display.max_rows\", None, \"display.max_columns\", None):\n",
    "    display(\n",
    "        similarity_df.iloc[:, :3]\n",
    "        .sort_values(by=\"median_sim\", ascending=False)\n",
    "        .iloc[:15]\n",
    "    )"
   ]
  },
  {
   "cell_type": "markdown",
   "id": "b6fe4c7e-cb1e-4554-8d09-d298da853361",
   "metadata": {},
   "source": [
    "Similar titles are easier - they are almost literal translation of original titles. "
   ]
  },
  {
   "cell_type": "markdown",
   "id": "ae39491c-8312-4a55-b075-763bbf7dced8",
   "metadata": {},
   "source": [
    "## Things to do"
   ]
  },
  {
   "cell_type": "markdown",
   "id": "e0caa610-41a1-408b-a72f-8ba8d125342d",
   "metadata": {},
   "source": [
    "* Make good visualizations:\n",
    "    * [Visualizing Embeddings With t-SNE](https://www.kaggle.com/code/colinmorris/visualizing-embeddings-with-t-sne/notebook)\n",
    "* Add into comparison deleted titles \n",
    "For languages, where transcription is used instead of original title (hieroglyphs)\n",
    "* Add new data (top-1000 series titles)"
   ]
  },
  {
   "cell_type": "markdown",
   "id": "24a802fa",
   "metadata": {},
   "source": []
  }
 ],
 "metadata": {
  "kernelspec": {
   "display_name": "venv",
   "language": "python",
   "name": "python3"
  },
  "language_info": {
   "codemirror_mode": {
    "name": "ipython",
    "version": 3
   },
   "file_extension": ".py",
   "mimetype": "text/x-python",
   "name": "python",
   "nbconvert_exporter": "python",
   "pygments_lexer": "ipython3",
   "version": "3.8.16"
  },
  "toc-autonumbering": false,
  "vscode": {
   "interpreter": {
    "hash": "da6d613eb10c43666497f74e22b05283c4bdf6003c90eb7edb01cc67ca357964"
   }
  }
 },
 "nbformat": 4,
 "nbformat_minor": 5
}
